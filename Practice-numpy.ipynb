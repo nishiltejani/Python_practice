{
 "cells": [
  {
   "cell_type": "code",
   "execution_count": 1,
   "metadata": {},
   "outputs": [],
   "source": [
    "import numpy as np"
   ]
  },
  {
   "cell_type": "code",
   "execution_count": 9,
   "metadata": {},
   "outputs": [
    {
     "name": "stdout",
     "output_type": "stream",
     "text": [
      "<class 'numpy.ndarray'>\n",
      "[['1' '2' '(3+4j)' '4' '5' '1' '2' '3' '4' '5']]\n"
     ]
    }
   ],
   "source": [
    "x = np.array([[1,2,3+4j,4,\"5\",1,2,3,4,5]])\n",
    "print(type(x))\n",
    "print(x)                                                     "
   ]
  },
  {
   "cell_type": "code",
   "execution_count": 4,
   "metadata": {},
   "outputs": [
    {
     "name": "stdout",
     "output_type": "stream",
     "text": [
      "<class 'list'>\n",
      "[1, 2, 3, 4, 5]\n"
     ]
    }
   ],
   "source": [
    "y = [1,2,3,4,5]\n",
    "print(type(y))\n",
    "print(y)"
   ]
  },
  {
   "cell_type": "code",
   "execution_count": 5,
   "metadata": {},
   "outputs": [
    {
     "name": "stdout",
     "output_type": "stream",
     "text": [
      "[ 12  12  13 114]\n"
     ]
    }
   ],
   "source": [
    "# <!-- Array -->\n",
    "\n",
    "l = []\n",
    "\n",
    "for i in range(1,5):\n",
    "    int1 = int(input(\"Enter: \"))\n",
    "    l.append(int1)\n",
    "\n",
    "print(np.array(l))"
   ]
  },
  {
   "cell_type": "code",
   "execution_count": 8,
   "metadata": {},
   "outputs": [
    {
     "name": "stdout",
     "output_type": "stream",
     "text": [
      "[[1 2 3 4]\n",
      " [1 2 3 4]]\n",
      "2\n"
     ]
    }
   ],
   "source": [
    "ar2 = np.array([[1,2,3,4],[1,2,3,4]])\n",
    "print(ar2)\n",
    "print(ar2.ndim)"
   ]
  },
  {
   "cell_type": "code",
   "execution_count": 9,
   "metadata": {},
   "outputs": [
    {
     "name": "stdout",
     "output_type": "stream",
     "text": [
      "[[[1 2 3 4]\n",
      "  [1 2 3 4]\n",
      "  [1 2 3 4]]]\n",
      "3\n"
     ]
    }
   ],
   "source": [
    "ar3 = np.array([[[1,2,3,4],[1,2,3,4],[1,2,3,4]]])\n",
    "print(ar3)\n",
    "print(ar3.ndim)"
   ]
  },
  {
   "cell_type": "code",
   "execution_count": 13,
   "metadata": {},
   "outputs": [
    {
     "name": "stdout",
     "output_type": "stream",
     "text": [
      "[[[[[[[[[[1 2 3 4]]]]]]]]]]\n",
      "10\n"
     ]
    }
   ],
   "source": [
    "arn = np.array([1,2,3,4],ndmin = 10)\n",
    "print(arn)\n",
    "print(arn.ndim)"
   ]
  },
  {
   "cell_type": "code",
   "execution_count": 15,
   "metadata": {},
   "outputs": [
    {
     "name": "stdout",
     "output_type": "stream",
     "text": [
      "[0. 0. 0. 0.]\n",
      " \n",
      "[[0. 0. 0. 0.]\n",
      " [0. 0. 0. 0.]\n",
      " [0. 0. 0. 0.]]\n"
     ]
    }
   ],
   "source": [
    "# <!-- Array with zeros -->\n",
    "\n",
    "ar_zero = np.zeros(4)\n",
    "ar_zero1 = np.zeros((3,4))\n",
    "\n",
    "print(ar_zero)\n",
    "print(\" \")\n",
    "print(ar_zero1)"
   ]
  },
  {
   "cell_type": "markdown",
   "metadata": {},
   "source": [
    "<!-- Array with ones -->"
   ]
  },
  {
   "cell_type": "code",
   "execution_count": 2,
   "metadata": {},
   "outputs": [
    {
     "name": "stdout",
     "output_type": "stream",
     "text": [
      "[[1. 1. 1. 1. 1.]\n",
      " [1. 1. 1. 1. 1.]\n",
      " [1. 1. 1. 1. 1.]\n",
      " [1. 1. 1. 1. 1.]]\n",
      "2\n"
     ]
    }
   ],
   "source": [
    "# <!-- Array with ones -->\n",
    "\n",
    "ar_one = np.ones((4,5))\n",
    "print(ar_one)\n",
    "print(ar_one.ndim)"
   ]
  },
  {
   "cell_type": "code",
   "execution_count": 5,
   "metadata": {},
   "outputs": [
    {
     "name": "stdout",
     "output_type": "stream",
     "text": [
      "[0.00000000e+000 1.06768667e-311 1.06768667e-311 1.06768667e-311]\n"
     ]
    }
   ],
   "source": [
    "# <!-- Empty Arrays -->\n",
    "\n",
    "ar_em = np.empty(4)\n",
    "print(ar_em)"
   ]
  },
  {
   "cell_type": "code",
   "execution_count": 6,
   "metadata": {},
   "outputs": [
    {
     "name": "stdout",
     "output_type": "stream",
     "text": [
      "[0 1 2 3]\n"
     ]
    }
   ],
   "source": [
    "# Range\n",
    "\n",
    "ar_rn = np.arange(4)\n",
    "print(ar_rn)"
   ]
  },
  {
   "cell_type": "code",
   "execution_count": 7,
   "metadata": {},
   "outputs": [
    {
     "name": "stdout",
     "output_type": "stream",
     "text": [
      "[[1. 0. 0.]\n",
      " [0. 1. 0.]\n",
      " [0. 0. 1.]]\n"
     ]
    }
   ],
   "source": [
    "# Diagonal\n",
    "\n",
    "ar_dia = np.eye(3)\n",
    "print(ar_dia)"
   ]
  },
  {
   "cell_type": "code",
   "execution_count": 12,
   "metadata": {},
   "outputs": [
    {
     "name": "stdout",
     "output_type": "stream",
     "text": [
      "[[1. 0. 0. 0. 0.]\n",
      " [0. 1. 0. 0. 0.]\n",
      " [0. 0. 1. 0. 0.]]\n",
      "2\n"
     ]
    }
   ],
   "source": [
    "ar_dia = np.eye(3,5)\n",
    "print(ar_dia)\n",
    "print(ar_dia.ndim)"
   ]
  },
  {
   "cell_type": "code",
   "execution_count": 13,
   "metadata": {},
   "outputs": [
    {
     "name": "stdout",
     "output_type": "stream",
     "text": [
      "[ 0.   2.5  5.   7.5 10. ]\n"
     ]
    }
   ],
   "source": [
    "# linspace\n",
    "\n",
    "ar_lin = np.linspace(0,10, num=5)\n",
    "print(ar_lin)"
   ]
  },
  {
   "cell_type": "code",
   "execution_count": 14,
   "metadata": {},
   "outputs": [
    {
     "name": "stdout",
     "output_type": "stream",
     "text": [
      "[0.21939189 0.5009196  0.11318287 0.63650274]\n"
     ]
    }
   ],
   "source": [
    "# Random \n",
    "# Rand()\n",
    "\n",
    "var  = np.random.rand(4)\n",
    "print(var)"
   ]
  },
  {
   "cell_type": "code",
   "execution_count": 31,
   "metadata": {},
   "outputs": [
    {
     "name": "stdout",
     "output_type": "stream",
     "text": [
      "[[0.4230937  0.16105309 0.72121271]\n",
      " [0.11604698 0.65603577 0.85133676]\n",
      " [0.03315323 0.20353531 0.24914568]\n",
      " [0.95253195 0.65796687 0.43410326]]\n"
     ]
    }
   ],
   "source": [
    "var1  = np.random.rand(4,3)\n",
    "print(var1)"
   ]
  },
  {
   "cell_type": "code",
   "execution_count": 34,
   "metadata": {},
   "outputs": [
    {
     "name": "stdout",
     "output_type": "stream",
     "text": [
      "[-0.72897445  0.87128005 -0.45298228  0.68767925]\n"
     ]
    }
   ],
   "source": [
    "# randn()\n",
    "\n",
    "var2  = np.random.randn(4)\n",
    "print(var2)"
   ]
  },
  {
   "cell_type": "code",
   "execution_count": 36,
   "metadata": {},
   "outputs": [
    {
     "name": "stdout",
     "output_type": "stream",
     "text": [
      "[0.07131679 0.0757469  0.19721138 0.59972918]\n"
     ]
    }
   ],
   "source": [
    "# ranf()\n",
    "\n",
    "var3  = np.random.ranf(4)\n",
    "print(var3)"
   ]
  },
  {
   "cell_type": "code",
   "execution_count": 15,
   "metadata": {},
   "outputs": [
    {
     "name": "stdout",
     "output_type": "stream",
     "text": [
      "[16  5  8  9  5  9]\n"
     ]
    }
   ],
   "source": [
    "# randint()\n",
    "\n",
    "var4  = np.random.randint(5,17,6)\n",
    "print(var4)"
   ]
  },
  {
   "cell_type": "code",
   "execution_count": 46,
   "metadata": {},
   "outputs": [
    {
     "name": "stdout",
     "output_type": "stream",
     "text": [
      "6\n",
      "2\n"
     ]
    }
   ],
   "source": [
    "#  Indexing\n",
    "\n",
    "var = np.array([9,6,3,2])\n",
    "\n",
    "print(var[1])\n",
    "print(var[-1])"
   ]
  },
  {
   "cell_type": "code",
   "execution_count": 52,
   "metadata": {},
   "outputs": [
    {
     "name": "stdout",
     "output_type": "stream",
     "text": [
      "[[1 2 3]\n",
      " [3 4 5]]\n",
      "4\n"
     ]
    }
   ],
   "source": [
    "var1 = np.array([[1,2,3], [3,4,5]])\n",
    "print(var1)\n",
    "print(var1[1,1])"
   ]
  },
  {
   "cell_type": "code",
   "execution_count": 59,
   "metadata": {},
   "outputs": [
    {
     "name": "stdout",
     "output_type": "stream",
     "text": [
      "[1 2 3 4 5 6 7 8]\n",
      "\n",
      "Data from 3 to 6: [4 5 6 7]\n",
      "Stop: [1 3 5 7]\n"
     ]
    }
   ],
   "source": [
    "# slicing\n",
    "\n",
    "var = np.array([1,2,3,4,5,6,7,8])\n",
    "print(var)\n",
    "print()\n",
    "print(\"Data from 3 to 6:\", var[3:7])\n",
    "print(\"Stop:\", var[::2])"
   ]
  },
  {
   "cell_type": "code",
   "execution_count": 16,
   "metadata": {},
   "outputs": [
    {
     "name": "stdout",
     "output_type": "stream",
     "text": [
      "[[ 1  2  3  4  5]\n",
      " [ 9  8  7  6  5]\n",
      " [11 12 13 14 15]]\n",
      "\n",
      "8 to 5: [8 7 6 5]\n"
     ]
    }
   ],
   "source": [
    "var1 = np.array([[1,2,3,4,5], [9,8,7,6,5], [11,12,13,14,15]])\n",
    "print(var1)\n",
    "print()\n",
    "print(\"8 to 5:\", var1[1,1:])"
   ]
  },
  {
   "cell_type": "code",
   "execution_count": 65,
   "metadata": {},
   "outputs": [
    {
     "name": "stdout",
     "output_type": "stream",
     "text": [
      "9\n",
      "8\n",
      "7\n",
      "6\n",
      "5\n",
      "4\n"
     ]
    }
   ],
   "source": [
    "# Iteration\n",
    "\n",
    "var = np.array([9,8,7,6,5,4])\n",
    "\n",
    "for i in var:\n",
    "    print(i)"
   ]
  },
  {
   "cell_type": "code",
   "execution_count": 151,
   "metadata": {},
   "outputs": [
    {
     "name": "stdout",
     "output_type": "stream",
     "text": [
      "2\n",
      "3\n",
      "4\n",
      "5\n",
      "6\n",
      "7\n",
      "8\n",
      "9\n"
     ]
    }
   ],
   "source": [
    "var1 = np.array([[2,3,4,5],[6,7,8,9]])\n",
    "\n",
    "for k in var1:\n",
    "    for l in k:\n",
    "        print(l)"
   ]
  },
  {
   "cell_type": "code",
   "execution_count": 71,
   "metadata": {},
   "outputs": [
    {
     "name": "stdout",
     "output_type": "stream",
     "text": [
      "[[[ 1  2  3  4]\n",
      "  [ 5  6  7  8]\n",
      "  [ 9 10 11 12]]]\n",
      "\n",
      "1\n",
      "2\n",
      "3\n",
      "4\n",
      "5\n",
      "6\n",
      "7\n",
      "8\n",
      "9\n",
      "10\n",
      "11\n",
      "12\n"
     ]
    }
   ],
   "source": [
    "var2 = np.array([[[1,2,3,4],[5,6,7,8],[9,10,11,12]]])\n",
    "\n",
    "print(var2)\n",
    "print()\n",
    "\n",
    "for i in var2:\n",
    "    for j in i:\n",
    "        for k in j:\n",
    "            print(k)"
   ]
  },
  {
   "cell_type": "code",
   "execution_count": 73,
   "metadata": {},
   "outputs": [
    {
     "name": "stdout",
     "output_type": "stream",
     "text": [
      "[2 3 4 5]\n",
      "[6 7 8 9]\n",
      "\n",
      "2\n",
      "3\n",
      "4\n",
      "5\n",
      "6\n",
      "7\n",
      "8\n",
      "9\n"
     ]
    }
   ],
   "source": [
    "var1 = np.array([[2,3,4,5],[6,7,8,9]])\n",
    "\n",
    "for j in var1:\n",
    "    print(j)\n",
    "\n",
    "print()\n",
    "\n",
    "for k in np.nditer(var1):\n",
    "    print(k)"
   ]
  },
  {
   "cell_type": "code",
   "execution_count": 74,
   "metadata": {},
   "outputs": [
    {
     "name": "stdout",
     "output_type": "stream",
     "text": [
      "[2 3 4 5]\n",
      "[6 7 8 9]\n",
      "\n",
      "(0, 0) 2\n",
      "(0, 1) 3\n",
      "(0, 2) 4\n",
      "(0, 3) 5\n",
      "(1, 0) 6\n",
      "(1, 1) 7\n",
      "(1, 2) 8\n",
      "(1, 3) 9\n"
     ]
    }
   ],
   "source": [
    "var1 = np.array([[2,3,4,5],[6,7,8,9]])\n",
    "\n",
    "for j in var1:\n",
    "    print(j)\n",
    "\n",
    "print()\n",
    "\n",
    "for k,d in np.ndenumerate(var1):\n",
    "    print(k,d)"
   ]
  },
  {
   "cell_type": "code",
   "execution_count": 79,
   "metadata": {},
   "outputs": [
    {
     "name": "stdout",
     "output_type": "stream",
     "text": [
      "data of var is: [ 1 23  3  4]\n",
      "Copy of var is:  [1 2 3 4]\n"
     ]
    }
   ],
   "source": [
    "#  copy vs view\n",
    "\n",
    "var = np.array([1,2,3,4])\n",
    "co = var.copy()\n",
    "var[1]= 23\n",
    "print(\"data of var is:\",var)\n",
    "print(\"Copy of var is: \", co)"
   ]
  },
  {
   "cell_type": "code",
   "execution_count": 81,
   "metadata": {},
   "outputs": [
    {
     "name": "stdout",
     "output_type": "stream",
     "text": [
      "data of x is: [ 1 32  3  4  5]\n",
      "View of x is:  [ 1 32  3  4  5]\n"
     ]
    }
   ],
   "source": [
    "x = np.array([1,2,3,4,5])\n",
    "vi = x.view()\n",
    "x[1]= 32\n",
    "print(\"data of x is:\",x)\n",
    "print(\"View of x is: \",vi)"
   ]
  },
  {
   "cell_type": "code",
   "execution_count": 84,
   "metadata": {},
   "outputs": [
    {
     "name": "stdout",
     "output_type": "stream",
     "text": [
      "[1 2 3 4 5 6 7 8]\n"
     ]
    }
   ],
   "source": [
    "# join array\n",
    "\n",
    "var = np.array([1,2,3,4])\n",
    "var1 = np.array([5,6,7,8])\n",
    "\n",
    "arr = np.concatenate((var,var1))\n",
    "print(arr)"
   ]
  },
  {
   "cell_type": "code",
   "execution_count": 2,
   "metadata": {},
   "outputs": [
    {
     "name": "stdout",
     "output_type": "stream",
     "text": [
      "[[1 2 5 6]\n",
      " [3 4 7 8]]\n"
     ]
    }
   ],
   "source": [
    "import numpy as np\n",
    "\n",
    "vr = np.array([[1,2],[3,4]])\n",
    "vr1 = np.array([[5,6],[7,8]])\n",
    "# print(vr)\n",
    "ar = np.concatenate((vr,vr1),axis=1)\n",
    "print(ar)"
   ]
  },
  {
   "cell_type": "code",
   "execution_count": 92,
   "metadata": {},
   "outputs": [
    {
     "name": "stdout",
     "output_type": "stream",
     "text": [
      "[[1 2 3 4]\n",
      " [5 6 7 8]]\n",
      "\n",
      "[1 2 3 4 5 6 7 8]\n",
      "\n",
      "[[1 2 3 4]\n",
      " [5 6 7 8]]\n",
      "\n",
      "[[[1 5]\n",
      "  [2 6]\n",
      "  [3 7]\n",
      "  [4 8]]]\n"
     ]
    }
   ],
   "source": [
    "var = np.array([1,2,3,4])\n",
    "var1 = np.array([5,6,7,8])\n",
    "\n",
    "arr = np.stack((var,var1),axis=0)\n",
    "arr1 = np.hstack((var,var1)) #row\n",
    "arr2 = np.vstack((var,var1)) #column\n",
    "arr3 = np.dstack((var,var1)) #height\n",
    "\n",
    "print(arr)\n",
    "print()\n",
    "print(arr1)\n",
    "print()\n",
    "print(arr2)\n",
    "print()\n",
    "print(arr3)\n"
   ]
  },
  {
   "cell_type": "code",
   "execution_count": 94,
   "metadata": {},
   "outputs": [
    {
     "name": "stdout",
     "output_type": "stream",
     "text": [
      "[array([1, 2, 3]), array([4, 5, 6]), array([7, 8, 9])]\n",
      "[1 2 3]\n"
     ]
    }
   ],
   "source": [
    "# split array\n",
    "\n",
    "var = np.array([1,2,3,4,5,6,7,8,9])\n",
    "ar = np.array_split(var, 3)\n",
    "print(ar)\n",
    "print(ar[0])"
   ]
  },
  {
   "cell_type": "code",
   "execution_count": 96,
   "metadata": {},
   "outputs": [
    {
     "name": "stdout",
     "output_type": "stream",
     "text": [
      "(array([1, 3], dtype=int64),)\n"
     ]
    }
   ],
   "source": [
    "# Search\n",
    "\n",
    "var = np.array([1,2,3,2,1,4,5,6,7,4,3])\n",
    "\n",
    "x = np.where(var == 2)\n",
    "print(x)"
   ]
  },
  {
   "cell_type": "code",
   "execution_count": 18,
   "metadata": {},
   "outputs": [
    {
     "name": "stdout",
     "output_type": "stream",
     "text": [
      "[2 1 1]\n"
     ]
    }
   ],
   "source": [
    "var1 = np.array([1,5,6,7])\n",
    "\n",
    "x1 = np.searchsorted(var1, [5,3,4], side=\"right\")\n",
    "print(x1)"
   ]
  },
  {
   "cell_type": "code",
   "execution_count": 103,
   "metadata": {},
   "outputs": [
    {
     "name": "stdout",
     "output_type": "stream",
     "text": [
      "[ 1  2  3  3  4  5  6  7 10 14]\n"
     ]
    }
   ],
   "source": [
    "# Sort\n",
    "\n",
    "var = np.array([2,3,10,1,4,5,6,7,14,3])\n",
    "x = np.sort(var)\n",
    "print(x)"
   ]
  },
  {
   "cell_type": "code",
   "execution_count": 106,
   "metadata": {},
   "outputs": [
    {
     "name": "stdout",
     "output_type": "stream",
     "text": [
      "['a' 'b' 'c' 'n' 'p' 'v']\n"
     ]
    }
   ],
   "source": [
    "var = np.array([\"a\",\"c\",\"b\",\"n\",\"v\", \"p\"])\n",
    "x = np.sort(var)\n",
    "print(x)"
   ]
  },
  {
   "cell_type": "code",
   "execution_count": 107,
   "metadata": {},
   "outputs": [
    {
     "name": "stdout",
     "output_type": "stream",
     "text": [
      "['a' 'b' 'n']\n",
      "<class 'numpy.ndarray'>\n"
     ]
    }
   ],
   "source": [
    "# filter array\n",
    "\n",
    "var = np.array([\"a\",\"c\",\"b\",\"n\",\"v\", \"p\"])\n",
    "f = [True, False, True, True, False, False]\n",
    "new_a = var[f]\n",
    "\n",
    "print(new_a)\n",
    "print(type(new_a))"
   ]
  },
  {
   "cell_type": "code",
   "execution_count": 108,
   "metadata": {},
   "outputs": [
    {
     "name": "stdout",
     "output_type": "stream",
     "text": [
      "[2 3 1 4]\n"
     ]
    }
   ],
   "source": [
    "# Arithmatic functions\n",
    "\n",
    "var = np.array([1,2,3,4])\n",
    "np.random.shuffle(var)\n",
    "print(var)"
   ]
  },
  {
   "cell_type": "code",
   "execution_count": 110,
   "metadata": {},
   "outputs": [
    {
     "name": "stdout",
     "output_type": "stream",
     "text": [
      "(array([1, 2, 3, 4, 5, 7, 9]), array([ 0,  1,  2,  3,  5,  9, 12], dtype=int64), array([1, 4, 1, 3, 3, 1, 1], dtype=int64))\n"
     ]
    }
   ],
   "source": [
    "var1 = np.array([1,2,3,4,2,5,4,2,2,7,5,5,9,4])\n",
    "x= np.unique(var1, return_index=True, return_counts=True)\n",
    "print(x)"
   ]
  },
  {
   "cell_type": "code",
   "execution_count": 116,
   "metadata": {},
   "outputs": [
    {
     "name": "stdout",
     "output_type": "stream",
     "text": [
      "[[1 2]\n",
      " [3 4]\n",
      " [5 6]]\n",
      "\n",
      "Flatten: [1 3 5 2 4 6]\n",
      "Ravel:  [1 2 3 4 5 6]\n"
     ]
    }
   ],
   "source": [
    "var2 = np.array([1,2,3,4,5,6])\n",
    "y = np.resize(var2,(3,2))\n",
    "print(y)\n",
    "print()\n",
    "print(\"Flatten:\" ,y.flatten(order=\"F\"))\n",
    "print(\"Ravel: \", np.ravel(y, order=\"A\"))"
   ]
  },
  {
   "cell_type": "code",
   "execution_count": 4,
   "metadata": {},
   "outputs": [
    {
     "name": "stdout",
     "output_type": "stream",
     "text": [
      "[1 2 3 4]\n",
      "int32\n",
      "[1.  2.  3.  4.  6.5]\n",
      "[ 1  2 40  3 40  4]\n"
     ]
    }
   ],
   "source": [
    "# Insert & append\n",
    "\n",
    "var = np.array([1,2,3,4])\n",
    "print(var)\n",
    "print(var.dtype)\n",
    "v=np.insert(var, (2,3), 40)\n",
    "x = np.append(var, 6.5)\n",
    "print(x)\n",
    "print(v)"
   ]
  },
  {
   "cell_type": "code",
   "execution_count": 9,
   "metadata": {},
   "outputs": [
    {
     "name": "stdout",
     "output_type": "stream",
     "text": [
      "[[ 1  2  3]\n",
      " [ 4  5  6]\n",
      " [21  2  2]]\n",
      "\n",
      "[[ 1  2  3]\n",
      " [ 4  5  6]\n",
      " [45 44 23]]\n"
     ]
    }
   ],
   "source": [
    "var1 = np.array([[1,2,3],[4,5,6]])\n",
    "\n",
    "v1=np.insert(var1, 2, [21,2,2], axis=0)\n",
    "print(v1)\n",
    "print()\n",
    "v1 = np.append(var1,[[45,44,23]], axis=0)\n",
    "print(v1)"
   ]
  },
  {
   "cell_type": "code",
   "execution_count": 129,
   "metadata": {},
   "outputs": [
    {
     "name": "stdout",
     "output_type": "stream",
     "text": [
      "[1 2 3 4]\n",
      "[1 2 4]\n"
     ]
    }
   ],
   "source": [
    "# Delete\n",
    "\n",
    "var1 = np.array([1,2,3,4])\n",
    "print(var1)\n",
    "d=np.delete(var1,2)\n",
    "print(d)"
   ]
  },
  {
   "cell_type": "code",
   "execution_count": 134,
   "metadata": {},
   "outputs": [
    {
     "name": "stdout",
     "output_type": "stream",
     "text": [
      "[[1 2]\n",
      " [1 2]]\n",
      "<class 'numpy.matrix'>\n",
      "\n",
      "[[3 6]\n",
      " [3 6]]\n",
      "\n",
      "[[3 6]\n",
      " [3 6]]\n"
     ]
    }
   ],
   "source": [
    "# Matrix\n",
    "\n",
    "var = np.matrix([[1,2],[1,2]])\n",
    "var1 = np.matrix([[1,2],[1,2]])\n",
    "\n",
    "print(var)\n",
    "print(type(var))\n",
    "print()\n",
    "print(var*var1)\n",
    "print()\n",
    "print(var.dot(var1))\n"
   ]
  },
  {
   "cell_type": "code",
   "execution_count": 133,
   "metadata": {},
   "outputs": [
    {
     "name": "stdout",
     "output_type": "stream",
     "text": [
      "[[1 2 3]\n",
      " [1 2 3]]\n",
      "<class 'numpy.ndarray'>\n"
     ]
    }
   ],
   "source": [
    "var = np.array([[1,2,3],[1,2,3]])\n",
    "print(var)\n",
    "print(type(var))"
   ]
  },
  {
   "cell_type": "code",
   "execution_count": 135,
   "metadata": {},
   "outputs": [
    {
     "name": "stdout",
     "output_type": "stream",
     "text": [
      "[[1 2 3]\n",
      " [4 5 6]]\n",
      "\n",
      "[[1 4]\n",
      " [2 5]\n",
      " [3 6]]\n",
      "\n",
      "[[1 4]\n",
      " [2 5]\n",
      " [3 6]]\n"
     ]
    }
   ],
   "source": [
    "# Transpose\n",
    "\n",
    "var =np.matrix([[1,2,3],[4,5,6]])\n",
    "print(var)\n",
    "print()\n",
    "print(np.transpose(var))\n",
    "print()\n",
    "print(var.T)\n"
   ]
  },
  {
   "cell_type": "code",
   "execution_count": 7,
   "metadata": {},
   "outputs": [
    {
     "name": "stdout",
     "output_type": "stream",
     "text": [
      "[[1 4]\n",
      " [2 5]\n",
      " [3 6]]\n"
     ]
    }
   ],
   "source": [
    "# Swapaxes\n",
    "\n",
    "var =np.matrix([[1,2,3],[4,5,6]])\n",
    "print(np.swapaxes(var,0,1))"
   ]
  },
  {
   "cell_type": "code",
   "execution_count": 139,
   "metadata": {},
   "outputs": [
    {
     "name": "stdout",
     "output_type": "stream",
     "text": [
      "[0.07131679 0.0757469  0.19721138 0.59972918]\n",
      "\n",
      "[[-2.   1. ]\n",
      " [ 1.5 -0.5]]\n"
     ]
    }
   ],
   "source": [
    "# Inverse\n",
    "\n",
    "var =np.matrix([[1,2],[3,4]])\n",
    "print(var3)\n",
    "print()\n",
    "print(np.linalg.inv(var))"
   ]
  },
  {
   "cell_type": "code",
   "execution_count": 140,
   "metadata": {},
   "outputs": [
    {
     "name": "stdout",
     "output_type": "stream",
     "text": [
      "[[1 2]\n",
      " [3 4]]\n",
      "\n",
      "[[ 7 10]\n",
      " [15 22]]\n",
      "\n",
      "[[1 0]\n",
      " [0 1]]\n",
      "\n",
      "[[ 5.5  -2.5 ]\n",
      " [-3.75  1.75]]\n",
      "\n"
     ]
    }
   ],
   "source": [
    "# Power\n",
    "\n",
    "var =np.matrix([[1,2],[3,4]])\n",
    "print(var)\n",
    "print()\n",
    "print(np.linalg.matrix_power(var, 2))  \n",
    "print()\n",
    "print(np.linalg.matrix_power(var, 0))\n",
    "print()\n",
    "print(np.linalg.matrix_power(var, -2))\n",
    "print()"
   ]
  },
  {
   "cell_type": "code",
   "execution_count": 19,
   "metadata": {},
   "outputs": [
    {
     "name": "stdout",
     "output_type": "stream",
     "text": [
      "[[1 4 3]\n",
      " [3 4 3]\n",
      " [1 2 3]]\n",
      "\n",
      "-12.000000000000005\n"
     ]
    }
   ],
   "source": [
    "# Determinate\n",
    "\n",
    "var =np.matrix([[1,4,3],[3,4,3],[1,2,3]])\n",
    "print(var)\n",
    "print()\n",
    "print(np.linalg.det(var))"
   ]
  },
  {
   "cell_type": "code",
   "execution_count": 10,
   "metadata": {},
   "outputs": [
    {
     "name": "stdout",
     "output_type": "stream",
     "text": [
      "[[1 2]\n",
      " [3 4]]\n",
      "\n",
      "[[5 6]\n",
      " [7 8]]\n",
      "\n",
      "[[ 6  8]\n",
      " [10 12]]\n",
      "2\n"
     ]
    }
   ],
   "source": [
    "var = np.array([[1,2], [3,4]])\n",
    "print(var)\n",
    "print()\n",
    "var1 = np.array([[5,6], [7,8]])\n",
    "print(var1)\n",
    "print()\n",
    "x = np.add(var,var1)\n",
    "print(x)\n",
    "print(np.ndim(var))\n"
   ]
  },
  {
   "cell_type": "code",
   "execution_count": null,
   "metadata": {},
   "outputs": [],
   "source": []
  }
 ],
 "metadata": {
  "kernelspec": {
   "display_name": "Python 3",
   "language": "python",
   "name": "python3"
  },
  "language_info": {
   "codemirror_mode": {
    "name": "ipython",
    "version": 3
   },
   "file_extension": ".py",
   "mimetype": "text/x-python",
   "name": "python",
   "nbconvert_exporter": "python",
   "pygments_lexer": "ipython3",
   "version": "3.11.5"
  }
 },
 "nbformat": 4,
 "nbformat_minor": 2
}
