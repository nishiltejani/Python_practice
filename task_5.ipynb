{
 "cells": [
  {
   "cell_type": "code",
   "execution_count": 3,
   "metadata": {},
   "outputs": [],
   "source": [
    "import os\n",
    "import pandas as pd\n",
    "import numpy as np"
   ]
  },
  {
   "cell_type": "code",
   "execution_count": 10,
   "metadata": {},
   "outputs": [
    {
     "name": "stdout",
     "output_type": "stream",
     "text": [
      "    x_min  x_max  y_min  y_max  z_min  z_max label\n",
      "0     -30     17    970   1008     32     95    on\n",
      "1     -31     17    970   1008     32     95    on\n",
      "2     -31     18    973   1006     39     93    on\n",
      "3     -30     18    972   1009     35     91    on\n",
      "4     -29     18    970   1009     27    100    on\n",
      "..    ...    ...    ...    ...    ...    ...   ...\n",
      "90   -140    124    746   1233   -102    172    on\n",
      "91   -122    124    735   1233    -83    177    on\n",
      "92   -129    110    735   1236    -76    177    on\n",
      "93   -130    110    746   1236    -94    176    on\n",
      "94   -130    110    746   1207   -104    176    on\n",
      "\n",
      "[95 rows x 7 columns]\n"
     ]
    }
   ],
   "source": [
    "def excess_files(folder_path, block_size=100, step_size=50):\n",
    "    min_max_data = []\n",
    "\n",
    "    for filename in os.listdir(folder_path):    # iteration of each files\n",
    "        if filename.endswith(\".json\"):\n",
    "            file_path = os.path.join(folder_path, filename)\n",
    "            \n",
    "            df = pd.read_json(file_path)\n",
    "            data = df[\"payload\"][\"values\"]\n",
    "            \n",
    "            dfs = []\n",
    "            for i in range(0, len(data) - block_size + 1, step_size):\n",
    "                start_index = i\n",
    "                end_index = i + block_size\n",
    "                block_df = data[start_index:end_index]\n",
    "                dfs.append(block_df)\n",
    "            \n",
    "            data_array = np.array(dfs)\n",
    "            \n",
    "            dfs = [pd.DataFrame(data_block, columns=['x', 'y', 'z']) for data_block in data_array]\n",
    "            \n",
    "            for df_block in dfs:\n",
    "                min_values = df_block.min()\n",
    "                max_values = df_block.max()\n",
    "                min_max_data.append({\n",
    "                    'x_min': min_values['x'],\n",
    "                    'x_max': max_values['x'],\n",
    "                    'y_min': min_values['y'],\n",
    "                    'y_max': max_values['y'],\n",
    "                    'z_min': min_values['z'],\n",
    "                    'z_max': max_values['z']\n",
    "                })\n",
    "\n",
    "\n",
    "    result_df = pd.DataFrame(min_max_data)\n",
    "\n",
    "    label_df = pd.DataFrame({\n",
    "    'label': [df[\"payload\"][\"label\"]] * len(data_array)\n",
    "    })\n",
    "\n",
    "    num_blocks = len(dfs)\n",
    "    label_df = pd.concat([label_df] * num_blocks, ignore_index=True)\n",
    "    result_df[\"label\"] = label_df\n",
    "    \n",
    "    return result_df\n",
    "\n",
    "folder_path = \"C:/Users/Nishil Tejani/Downloads/New folder\"\n",
    "result_df = excess_files(folder_path)\n",
    "print(result_df)"
   ]
  },
  {
   "cell_type": "code",
   "execution_count": null,
   "metadata": {},
   "outputs": [],
   "source": []
  }
 ],
 "metadata": {
  "kernelspec": {
   "display_name": "Python 3",
   "language": "python",
   "name": "python3"
  },
  "language_info": {
   "codemirror_mode": {
    "name": "ipython",
    "version": 3
   },
   "file_extension": ".py",
   "mimetype": "text/x-python",
   "name": "python",
   "nbconvert_exporter": "python",
   "pygments_lexer": "ipython3",
   "version": "3.11.5"
  }
 },
 "nbformat": 4,
 "nbformat_minor": 2
}
