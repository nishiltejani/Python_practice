{
 "cells": [
  {
   "cell_type": "code",
   "execution_count": 3,
   "metadata": {},
   "outputs": [
    {
     "name": "stdout",
     "output_type": "stream",
     "text": [
      "Ayan\n",
      "30\n"
     ]
    }
   ],
   "source": [
    "class Person:  \n",
    "    def __init__(self, name, age):  \n",
    "        self.name = name    \n",
    "        self.age = age  \n",
    "person1 = Person(\"Ayan\", 25)  \n",
    "person2 = Person(\"Bobby\", 30)  \n",
    "print(person1.name)    \n",
    "print(person2.age)  "
   ]
  },
  {
   "cell_type": "code",
   "execution_count": 6,
   "metadata": {},
   "outputs": [
    {
     "name": "stdout",
     "output_type": "stream",
     "text": [
      "2\n"
     ]
    }
   ],
   "source": [
    "class Person:  \n",
    "    count = 0   \n",
    "  \n",
    "    def __init__(self, name, age):\n",
    "        self.name = name\n",
    "        self.age = age\n",
    "        Person.count += 1\n",
    "person1 = Person(\"Ayan\", 25)  \n",
    "person2 = Person(\"Bobby\", 30)  \n",
    "print(Person.count)"
   ]
  },
  {
   "cell_type": "code",
   "execution_count": 2,
   "metadata": {},
   "outputs": [
    {
     "name": "stdout",
     "output_type": "stream",
     "text": [
      "ID: 101 \n",
      "Name: John\n",
      "ID: 102 \n",
      "Name: David\n"
     ]
    }
   ],
   "source": [
    "# CONSTRUCTOR\n",
    "\n",
    "class Employee:  \n",
    "    def __init__(self, name, id):  \n",
    "        self.id = id  \n",
    "        self.name = name  \n",
    "  \n",
    "    def display(self):  \n",
    "        print(\"ID: %d \\nName: %s\" % (self.id, self.name))  \n",
    "  \n",
    "  \n",
    "emp1 = Employee(\"John\", 101)  \n",
    "emp2 = Employee(\"David\", 102)  \n",
    "    \n",
    "emp1.display()  \n",
    "emp2.display()  "
   ]
  },
  {
   "cell_type": "code",
   "execution_count": 85,
   "metadata": {},
   "outputs": [
    {
     "name": "stdout",
     "output_type": "stream",
     "text": [
      "This is Non-parameterized constructor\n",
      "hey, nishil\n"
     ]
    }
   ],
   "source": [
    "# Python Non-Parameterized Constructor\n",
    "\n",
    "class Employee:\n",
    "    def __init__(self):\n",
    "        print(\"This is Non-parameterized constructor\")\n",
    "    def show(self, name):\n",
    "        print(\"hey,\", name)\n",
    "emp = Employee()\n",
    "emp.show(\"nishil\")"
   ]
  },
  {
   "cell_type": "code",
   "execution_count": 3,
   "metadata": {},
   "outputs": [
    {
     "name": "stdout",
     "output_type": "stream",
     "text": [
      "This is parameterized constructor\n",
      "hey, Nishil\n"
     ]
    }
   ],
   "source": [
    "# Python Parameterized Constructor\n",
    "\n",
    "class Employee:\n",
    "    def __init__(self, name):\n",
    "        print(\"This is parameterized constructor\")\n",
    "        self.name = name\n",
    "    def show(self):\n",
    "        print(\"hey,\", self.name)\n",
    "emp = Employee(\"Nishil\")\n",
    "emp.show()"
   ]
  },
  {
   "cell_type": "code",
   "execution_count": 4,
   "metadata": {},
   "outputs": [
    {
     "name": "stdout",
     "output_type": "stream",
     "text": [
      "202 nishil\n"
     ]
    }
   ],
   "source": [
    "# Python Default Constructor\n",
    "\n",
    "class Student:\n",
    "    roll_no = 202\n",
    "    name = \"nishil\"\n",
    "\n",
    "    def show1(self):\n",
    "        print(self.roll_no, self.name)\n",
    "\n",
    "st = Student()\n",
    "st.show1()"
   ]
  },
  {
   "cell_type": "code",
   "execution_count": 5,
   "metadata": {},
   "outputs": [
    {
     "name": "stdout",
     "output_type": "stream",
     "text": [
      "The second contructor\n"
     ]
    }
   ],
   "source": [
    "# More than One Constructor in Single class\n",
    "\n",
    "class Student:  \n",
    "    def __init__(self):  \n",
    "        print(\"The First Constructor\")  \n",
    "    def __init__(self):  \n",
    "        print(\"The second contructor\")  \n",
    "  \n",
    "st = Student()  "
   ]
  },
  {
   "cell_type": "code",
   "execution_count": 4,
   "metadata": {},
   "outputs": [
    {
     "name": "stdout",
     "output_type": "stream",
     "text": [
      "123\n",
      "Name of the employee: 202 is Kaushal\n",
      "123\n",
      "Name of the employee: 45 is Nishil\n",
      "This is a python programming Language\n"
     ]
    }
   ],
   "source": [
    "#  INHERITANCE\n",
    "\n",
    "class Employee:\n",
    "    def __init__(self, name, id):\n",
    "        self.name = name\n",
    "        self.id = id\n",
    "        print(\"123\")\n",
    "\n",
    "    def ShowDetails(self):\n",
    "\n",
    "        print(f\"Name of the employee: {self.id} is {self.name}\")\n",
    "\n",
    "class Programmar(Employee):\n",
    "    def showLanguage(self):\n",
    "        print(\"This is a python programming Language\")\n",
    "\n",
    "\n",
    "e1 = Employee(\"Kaushal\", 202)\n",
    "e1.ShowDetails()\n",
    "e2 = Programmar(\"Nishil\", 45)\n",
    "e2.ShowDetails()\n",
    "e2.showLanguage()"
   ]
  },
  {
   "cell_type": "code",
   "execution_count": 10,
   "metadata": {},
   "outputs": [
    {
     "name": "stdout",
     "output_type": "stream",
     "text": [
      "has 2 tyres\n",
      "has 4 tyres\n",
      "has more than 6 tyres\n"
     ]
    }
   ],
   "source": [
    "# Multi-level Inheritance\n",
    " \n",
    "class Vehicles:\n",
    "    def bike(self):\n",
    "        print(\"has 2 tyres\")\n",
    "\n",
    "class Large(Vehicles):\n",
    "    def truck(self):\n",
    "        print(\"has more than 6 tyres\")\n",
    "\n",
    "class Small(Large):\n",
    "    def car(self):\n",
    "        print(\"has 4 tyres\")\n",
    "\n",
    "lv = Small()\n",
    "lv.bike()\n",
    "lv.car()\n",
    "lv.truck()"
   ]
  },
  {
   "cell_type": "code",
   "execution_count": 53,
   "metadata": {},
   "outputs": [
    {
     "name": "stdout",
     "output_type": "stream",
     "text": [
      "30\n",
      "200\n",
      "0.5\n"
     ]
    }
   ],
   "source": [
    "# Multiple inheritance\n",
    "\n",
    "class Calculation1:  \n",
    "    def Summation(self,a,b):  \n",
    "        return a+b  \n",
    "\n",
    "class Calculation2:  \n",
    "    def Multiplication(self,a,b):  \n",
    "        return a*b  \n",
    "\n",
    "class Derived(Calculation2,Calculation1):  \n",
    "    def Divide(self,a,b):  \n",
    "        return a/b  \n",
    "\n",
    "d = Derived()  \n",
    "print(d.Summation(10,20))  \n",
    "print(d.Multiplication(10,20))  \n",
    "print(d.Divide(10,20))  "
   ]
  },
  {
   "cell_type": "code",
   "execution_count": 56,
   "metadata": {},
   "outputs": [
    {
     "name": "stdout",
     "output_type": "stream",
     "text": [
      "parent class.\n",
      "child 1.\n",
      "parent class.\n",
      "child 2.\n"
     ]
    }
   ],
   "source": [
    "# Hierarchical Inheritance\n",
    "\n",
    "class Parent:\n",
    "    def func1(self):\n",
    "        print(\"parent class.\")\n",
    " \n",
    "class Child1(Parent):\n",
    "    def func2(self):\n",
    "        print(\"child 1.\") \n",
    " \n",
    "class Child2(Parent):\n",
    "    def func3(self):\n",
    "        print(\"child 2.\")\n",
    " \n",
    "object1 = Child1()\n",
    "object2 = Child2()\n",
    "object1.func1()\n",
    "object1.func2()\n",
    "object2.func1()\n",
    "object2.func3()"
   ]
  },
  {
   "cell_type": "code",
   "execution_count": 58,
   "metadata": {},
   "outputs": [
    {
     "name": "stdout",
     "output_type": "stream",
     "text": [
      "school\n",
      "student 1\n"
     ]
    }
   ],
   "source": [
    "# hybrid inheritance\n",
    "\n",
    "class School:\n",
    "    def func1(self):\n",
    "        print(\"school\")\n",
    " \n",
    "class Student1(School):\n",
    "    def func2(self):\n",
    "        print(\"student 1\")\n",
    " \n",
    "class Student2(School):\n",
    "    def func3(self):\n",
    "        print(\"student 2\")\n",
    " \n",
    "class Student3(Student1, School):\n",
    "    def func4(self):\n",
    "        print(\"student 3\")\n",
    " \n",
    "object = Student3()\n",
    "object.func1()\n",
    "object.func2()"
   ]
  },
  {
   "cell_type": "code",
   "execution_count": 32,
   "metadata": {},
   "outputs": [
    {
     "name": "stdout",
     "output_type": "stream",
     "text": [
      "True\n",
      "False\n"
     ]
    }
   ],
   "source": [
    "# The issubclass(sub,sup) method\n",
    "\n",
    "class Calculation1:  \n",
    "    def Summation(self,a,b):  \n",
    "        return a+b \n",
    "\n",
    "class Calculation2:  \n",
    "    def Multiplication(self,a,b):  \n",
    "        return a*b\n",
    "\n",
    "class Derived(Calculation1,Calculation2):  \n",
    "    def Divide(self,a,b):  \n",
    "        return a/b\n",
    "d = Derived()  \n",
    "print(issubclass(Derived,Calculation2))  \n",
    "print(issubclass(Calculation1,Calculation2))  \n"
   ]
  },
  {
   "cell_type": "code",
   "execution_count": 36,
   "metadata": {},
   "outputs": [
    {
     "name": "stdout",
     "output_type": "stream",
     "text": [
      "True\n",
      "True\n",
      "True\n"
     ]
    }
   ],
   "source": [
    "# The isinstance (obj, class) method\n",
    "\n",
    "class Calculation1:  \n",
    "    def Summation(self,a,b):  \n",
    "        return a+b\n",
    "      \n",
    "class Calculation2:  \n",
    "    def Multiplication(self,a,b):  \n",
    "        return a*b\n",
    "      \n",
    "class Derived(Calculation1,Calculation2):  \n",
    "    def Divide(self,a,b):  \n",
    "        return a/b  \n",
    "d = Derived()  \n",
    "print(isinstance(d,Calculation2)) \n",
    "print(isinstance(d,Calculation1)) \n",
    "print(isinstance(d,Derived)) "
   ]
  },
  {
   "cell_type": "code",
   "execution_count": 41,
   "metadata": {},
   "outputs": [
    {
     "data": {
      "text/plain": [
       "11"
      ]
     },
     "execution_count": 41,
     "metadata": {},
     "output_type": "execute_result"
    }
   ],
   "source": [
    "class Summation1:\n",
    "    def Add(self,x,y):\n",
    "        # self.x  = x\n",
    "        # self.y = y\n",
    "        return x+y\n",
    "s = Summation1()\n",
    "s.Add(5,6)  \n"
   ]
  },
  {
   "cell_type": "code",
   "execution_count": 11,
   "metadata": {},
   "outputs": [
    {
     "name": "stdout",
     "output_type": "stream",
     "text": [
      "Hey i am a person\n",
      "Nishil is a Junior\n",
      "Hey i am a person\n",
      "Hitarth is a Senior\n",
      "Hey i am a person\n",
      "Anup is a HR\n"
     ]
    }
   ],
   "source": [
    "class Person:\n",
    "\n",
    "    def __init__(self, name, occ):\n",
    "        print(\"Hey i am a person\")\n",
    "        self.name = name\n",
    "        self.occ = occ\n",
    "\n",
    "    def info(self):\n",
    "        print(f\"{self.name} is a {self.occ}\")\n",
    "\n",
    "a = Person(\"Nishil\", \"Junior\")\n",
    "a.info()\n",
    "\n",
    "b = Person(\"Hitarth\", \"Senior\")\n",
    "b.info()\n",
    "\n",
    "c = Person(\"Anup\", \"HR\")\n",
    "c.info()"
   ]
  },
  {
   "cell_type": "code",
   "execution_count": 86,
   "metadata": {},
   "outputs": [
    {
     "name": "stdout",
     "output_type": "stream",
     "text": [
      "spell check\n",
      "convention check\n",
      "compiling\n",
      "running\n"
     ]
    }
   ],
   "source": [
    "# Polymorphism \n",
    "# Duck Typing\n",
    "\n",
    "class Pycharm:\n",
    "    def execute(self):\n",
    "        print(\"compiling\")\n",
    "        print(\"running\")\n",
    "\n",
    "class Myeditor:\n",
    "    def execute(self):\n",
    "        print(\"spell check\")\n",
    "        print(\"convention check\")\n",
    "        print(\"compiling\")\n",
    "        print(\"running\")\n",
    "\n",
    "class Laptop:\n",
    "    def code(self, ide):\n",
    "        ide.execute()\n",
    "\n",
    "ide = Myeditor()\n",
    "\n",
    "lap1 = Laptop()\n",
    "lap1.code(ide)"
   ]
  },
  {
   "cell_type": "code",
   "execution_count": 76,
   "metadata": {},
   "outputs": [
    {
     "name": "stdout",
     "output_type": "stream",
     "text": [
      "134\n",
      "141\n"
     ]
    }
   ],
   "source": [
    "# Operator Overloading\n",
    "\n",
    "class Student:\n",
    "\n",
    "    def __init__(self, m1, m2):\n",
    "        self.m1 = m1\n",
    "        self.m2 = m2\n",
    "\n",
    "    def __add__(self, other):\n",
    "        m1 = self.m1 + other.m1\n",
    "        m2 = self.m2 + other.m2\n",
    "        s3 = Student(m1, m2)\n",
    "\n",
    "        return s3\n",
    "\n",
    "s1 = Student(45,76)\n",
    "s2 = Student(89,65)\n",
    "\n",
    "s3 = s1 + s2\n",
    "print(s3.m1)\n",
    "print(s3.m2)"
   ]
  },
  {
   "cell_type": "code",
   "execution_count": 78,
   "metadata": {},
   "outputs": [
    {
     "name": "stdout",
     "output_type": "stream",
     "text": [
      "in B show\n"
     ]
    }
   ],
   "source": [
    "# Method Overriding\n",
    "\n",
    "class A:\n",
    "\n",
    "    def show(self):\n",
    "        print(\"in A show\") \n",
    "\n",
    "class B(A):\n",
    "\n",
    "    def show(self):\n",
    "        print(\"in B show\")\n",
    "\n",
    "a1 = B()\n",
    "a1.show()"
   ]
  },
  {
   "cell_type": "code",
   "execution_count": 83,
   "metadata": {},
   "outputs": [
    {
     "name": "stdout",
     "output_type": "stream",
     "text": [
      "45\n"
     ]
    }
   ],
   "source": [
    "# Method Overloading\n",
    "\n",
    "class Student:\n",
    "\n",
    "    def __init__(self, m1, m2):\n",
    "        self.m1 = m1\n",
    "        self.m2 = m2\n",
    "\n",
    "    def sum (self, a=None, b=None, c=None):\n",
    "        s=0\n",
    "        if a!=None and b!=None and c!=None:\n",
    "            s = a+b+c\n",
    "\n",
    "        return s\n",
    "    \n",
    "s1 = Student(43, 2)\n",
    "\n",
    "print(s1.sum(15,5,25))"
   ]
  },
  {
   "cell_type": "code",
   "execution_count": 14,
   "metadata": {},
   "outputs": [
    {
     "name": "stdout",
     "output_type": "stream",
     "text": [
      "Every car has 4 wheels\n",
      "speed is 250Km/h\n",
      "jhshaxgvgns\n",
      "Every car has 4 wheels\n",
      "speed is 191Km/h\n",
      "jhshaxgvgns\n"
     ]
    }
   ],
   "source": [
    "# Abstract Class\n",
    "\n",
    "from abc import ABC, abstractmethod\n",
    "\n",
    "class Car(ABC):\n",
    "    def Show(self):\n",
    "        print(\"Every car has 4 wheels\")\n",
    "\n",
    "    @abstractmethod\n",
    "    def Speed(self):\n",
    "        pass\n",
    "    \n",
    "    @abstractmethod\n",
    "    def display(self):\n",
    "        print(\"123\")\n",
    "        # pass\n",
    "\n",
    "class Mercedesamg(Car):\n",
    "    def Speed(self):\n",
    "        print(\"speed is 250Km/h\")\n",
    "\n",
    "    def display(self):\n",
    "        print(\"jhshaxgvgns\")\n",
    "\n",
    "class RangeRoverDefender(Car):\n",
    "    def Speed(self):\n",
    "        print(\"speed is 191Km/h\")\n",
    "\n",
    "    def display(self):\n",
    "        print(\"jhshaxgvgns\")\n",
    "\n",
    "obj=Mercedesamg()\n",
    "obj.Show()\n",
    "obj.Speed()\n",
    "obj.display()\n",
    "\n",
    "obj2=RangeRoverDefender()\n",
    "obj2.Show()\n",
    "obj2.Speed()\n",
    "obj.display()"
   ]
  },
  {
   "cell_type": "code",
   "execution_count": 6,
   "metadata": {},
   "outputs": [
    {
     "name": "stdout",
     "output_type": "stream",
     "text": [
      "a =  10\n",
      "b =  20\n",
      "Outside of class 10\n"
     ]
    }
   ],
   "source": [
    "# Encapsulation\n",
    "\n",
    "class A:\n",
    "    _a = 10\n",
    "    __b = 20\n",
    "\n",
    "    def Show(self):\n",
    "        print(\"a = \", self._a)\n",
    "        print(\"b = \", self.__b)\n",
    "\n",
    "obj = A()\n",
    "obj.Show()\n",
    "print(\"Outside of class\", obj._a)\n",
    "# print(\"Outside of class\", obj.__b)"
   ]
  },
  {
   "cell_type": "code",
   "execution_count": 10,
   "metadata": {},
   "outputs": [
    {
     "name": "stdout",
     "output_type": "stream",
     "text": [
      "10   20   None\n",
      "10\n",
      "20\n"
     ]
    }
   ],
   "source": [
    "# Access modifiers\n",
    "\n",
    "class A:\n",
    "    a=10   #public\n",
    "    _b=20   #protected\n",
    "    __c=None  #private\n",
    "\n",
    "    print(a, \" \", _b, \" \", __c)\n",
    "\n",
    "class B(A):     \n",
    "    def Show(self):\n",
    "        print(self.a)\n",
    "        print(self._b)\n",
    "        # print(self.__c)\n",
    "\n",
    "obj = B()\n",
    "obj.Show()\n"
   ]
  },
  {
   "cell_type": "code",
   "execution_count": 23,
   "metadata": {},
   "outputs": [
    {
     "name": "stdout",
     "output_type": "stream",
     "text": [
      "Total Bus fare is: 5500.0\n"
     ]
    }
   ],
   "source": [
    "class Vehicle:\n",
    "    def __init__(self, name, mileage, capacity):\n",
    "        self.name = name\n",
    "        self.mileage = mileage\n",
    "        self.capacity = capacity\n",
    "\n",
    "    def fare(self):\n",
    "        return self.capacity * 100\n",
    "\n",
    "class Bus(Vehicle):\n",
    "    def fare(self):\n",
    "        amount = super().fare()\n",
    "        amount += amount * 10 / 100\n",
    "        return amount\n",
    "\n",
    "School_bus = Bus(\"School Volvo\", 12, 50)\n",
    "print(\"Total Bus fare is:\", School_bus.fare())"
   ]
  },
  {
   "cell_type": "code",
   "execution_count": 13,
   "metadata": {},
   "outputs": [
    {
     "name": "stdout",
     "output_type": "stream",
     "text": [
      "True\n"
     ]
    }
   ],
   "source": [
    "class Vehicle:\n",
    "    def __init__(self, name, mileage, capacity):\n",
    "        self.name = name\n",
    "        self.mileage = mileage\n",
    "        self.capacity = capacity\n",
    "\n",
    "class Bus(Vehicle):\n",
    "    pass\n",
    "\n",
    "School_bus = Bus(\"School Volvo\", 12, 50)\n",
    "print(isinstance(School_bus, Vehicle))"
   ]
  },
  {
   "cell_type": "code",
   "execution_count": 14,
   "metadata": {},
   "outputs": [
    {
     "name": "stdout",
     "output_type": "stream",
     "text": [
      "A B\n",
      "A B\n"
     ]
    }
   ],
   "source": [
    "class A:\n",
    "    def f(self):\n",
    "        return self.g()\n",
    "\n",
    "    def g(self):\n",
    "        return 'A'\n",
    "\n",
    "class B(A):\n",
    "    def g(self):\n",
    "        return 'B'\n",
    "\n",
    "a = A()\n",
    "b = B()\n",
    "print(a.f(), b.f())\n",
    "print(a.g(), b.g())\n"
   ]
  },
  {
   "cell_type": "code",
   "execution_count": 12,
   "metadata": {},
   "outputs": [
    {
     "name": "stdout",
     "output_type": "stream",
     "text": [
      "Charlie says hello!\n",
      "Charlie\n",
      "Bulldog\n"
     ]
    }
   ],
   "source": [
    "class Animal:\n",
    "    def __init__(self, name):\n",
    "        self.name = name\n",
    "\n",
    "    def speak(self):\n",
    "        print(f\"{self.name} says hello!\")\n",
    "\n",
    "class Dog(Animal):\n",
    "    def __init__(self, name, breed):\n",
    "        super().__init__(name)\n",
    "        self.breed = breed\n",
    "\n",
    "        super().speak()\n",
    "\n",
    "\n",
    "dog = Dog(\"Charlie\", \"Bulldog\")\n",
    "print(dog.name)\n",
    "print(dog.breed)"
   ]
  },
  {
   "cell_type": "code",
   "execution_count": 32,
   "metadata": {},
   "outputs": [
    {
     "name": "stdout",
     "output_type": "stream",
     "text": [
      "2.0\n"
     ]
    }
   ],
   "source": [
    "def div(a,b):\n",
    "\n",
    "    if a<b:\n",
    "        a,b = b,a\n",
    "    print(a/b)\n",
    "\n",
    "div(2,4)"
   ]
  },
  {
   "cell_type": "code",
   "execution_count": 34,
   "metadata": {},
   "outputs": [
    {
     "name": "stdout",
     "output_type": "stream",
     "text": [
      "Good morning\n",
      "Hello World\n",
      "Thanks\n"
     ]
    }
   ],
   "source": [
    "def greet(func):\n",
    "    def mfunc():\n",
    "        print(\"Good morning\")\n",
    "        func()\n",
    "        print(\"Thanks\")\n",
    "    return mfunc\n",
    "\n",
    "@greet \n",
    "def hello():\n",
    "    print(\"Hello World\")\n",
    "\n",
    "hello()"
   ]
  },
  {
   "cell_type": "code",
   "execution_count": 31,
   "metadata": {},
   "outputs": [
    {
     "name": "stdout",
     "output_type": "stream",
     "text": [
      "720\n"
     ]
    }
   ],
   "source": [
    "y = int(input(\"Enter a number:\"))\n",
    "\n",
    "def fact1(y):\n",
    "    x = 1\n",
    "    for i in range(1,y+1):\n",
    "        fact = x*i\n",
    "        x = fact\n",
    "    print(fact)\n",
    "fact1(y)"
   ]
  },
  {
   "cell_type": "code",
   "execution_count": 35,
   "metadata": {},
   "outputs": [
    {
     "name": "stdout",
     "output_type": "stream",
     "text": [
      "True\n"
     ]
    }
   ],
   "source": [
    "a=5\n",
    "b=5\n",
    "b==a\n",
    "print(b==a)"
   ]
  },
  {
   "cell_type": "code",
   "execution_count": 39,
   "metadata": {},
   "outputs": [
    {
     "name": "stdout",
     "output_type": "stream",
     "text": [
      "Hello\n",
      "Hi\n",
      "Hello\n",
      "Hi\n",
      "Hello\n",
      "Hi\n",
      "Hello\n",
      "Hi\n",
      "Hello\n",
      "Hi\n",
      "Bye\n"
     ]
    }
   ],
   "source": [
    "# MultiThreading\n",
    "\n",
    "from time import sleep\n",
    "from threading import *\n",
    "\n",
    "class Hello(Thread):\n",
    "    def run(self):\n",
    "        for i in range(5):\n",
    "            print(\"Hello\")\n",
    "            sleep(1)\n",
    "\n",
    "class Hi(Thread):\n",
    "    def run(self):\n",
    "        for i in range(5):\n",
    "            print(\"Hi\")\n",
    "            sleep(1)\n",
    "\n",
    "t1 = Hello()\n",
    "t2 = Hi()\n",
    "\n",
    "t1.start()\n",
    "sleep(0.2)\n",
    "t2.start()\n",
    "\n",
    "t1.join()\n",
    "t2.join()\n",
    "\n",
    "print(\"Bye\")"
   ]
  },
  {
   "cell_type": "code",
   "execution_count": 1,
   "metadata": {},
   "outputs": [
    {
     "name": "stdout",
     "output_type": "stream",
     "text": [
      "0A\n",
      "\n",
      "B\n",
      "1\n",
      "C\n",
      "2\n",
      "D\n",
      "3\n",
      "E\n",
      "4\n"
     ]
    }
   ],
   "source": [
    "import threading\n",
    "import time\n",
    "\n",
    "def print_numbers():\n",
    "    for i in range(5):\n",
    "        time.sleep(1)\n",
    "        print(i)\n",
    "\n",
    "def print_letters():\n",
    "    for letter in 'ABCDE':\n",
    "        time.sleep(1)\n",
    "        print(letter)\n",
    "\n",
    "thread1 = threading.Thread(target=print_numbers)\n",
    "thread2 = threading.Thread(target=print_letters)\n",
    "\n",
    "thread1.start()\n",
    "thread2.start()\n",
    "\n",
    "thread1.join()\n",
    "thread2.join()\n",
    "\n"
   ]
  },
  {
   "cell_type": "code",
   "execution_count": null,
   "metadata": {},
   "outputs": [],
   "source": []
  }
 ],
 "metadata": {
  "kernelspec": {
   "display_name": "Python 3",
   "language": "python",
   "name": "python3"
  },
  "language_info": {
   "codemirror_mode": {
    "name": "ipython",
    "version": 3
   },
   "file_extension": ".py",
   "mimetype": "text/x-python",
   "name": "python",
   "nbconvert_exporter": "python",
   "pygments_lexer": "ipython3",
   "version": "3.11.5"
  }
 },
 "nbformat": 4,
 "nbformat_minor": 2
}
