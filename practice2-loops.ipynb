{
 "cells": [
  {
   "cell_type": "code",
   "execution_count": 1,
   "metadata": {},
   "outputs": [],
   "source": [
    "# Loops in python"
   ]
  },
  {
   "cell_type": "code",
   "execution_count": 2,
   "metadata": {},
   "outputs": [
    {
     "name": "stdout",
     "output_type": "stream",
     "text": [
      "n\n",
      "i\n",
      "s\n",
      "h\n",
      "i\n",
      "l\n"
     ]
    }
   ],
   "source": [
    "# for loop\n",
    "name = \"nishil\"\n",
    "for i in name:\n",
    "    print(i)"
   ]
  },
  {
   "cell_type": "code",
   "execution_count": 3,
   "metadata": {},
   "outputs": [
    {
     "name": "stdout",
     "output_type": "stream",
     "text": [
      "n\n",
      "i\n",
      "nishil\n",
      "s\n",
      "h\n",
      "i\n",
      "nishil\n",
      "l\n"
     ]
    }
   ],
   "source": [
    "name = \"nishil\"\n",
    "for i in name:\n",
    "    print(i)\n",
    "    if(i==\"i\"):\n",
    "        print(\"nishil\")"
   ]
  },
  {
   "cell_type": "code",
   "execution_count": 7,
   "metadata": {},
   "outputs": [
    {
     "name": "stdout",
     "output_type": "stream",
     "text": [
      "red\n",
      "r\n",
      "e\n",
      "d\n",
      "pink\n",
      "p\n",
      "i\n",
      "n\n",
      "k\n",
      "cyan\n",
      "c\n",
      "y\n",
      "a\n",
      "n\n",
      "magenta\n",
      "m\n",
      "a\n",
      "g\n",
      "e\n",
      "n\n",
      "t\n",
      "a\n"
     ]
    }
   ],
   "source": [
    "lst1 = [\"red\", \"pink\", \"cyan\", \"magenta\"]\n",
    "for x in lst1:\n",
    "    print(x)\n",
    "    for color in x:\n",
    "        print(color)"
   ]
  },
  {
   "cell_type": "code",
   "execution_count": 28,
   "metadata": {},
   "outputs": [
    {
     "name": "stdout",
     "output_type": "stream",
     "text": [
      "1\n",
      "4\n",
      "7\n",
      "10\n",
      "13\n",
      "16\n",
      "19\n",
      "22\n",
      "25\n",
      "28\n",
      "31\n"
     ]
    }
   ],
   "source": [
    "# range function in for loop\n",
    "\n",
    "# for n in range(2):\n",
    "#     print(n1)\n",
    "\n",
    "# for m in range(1, 11):\n",
    "#     print(m+1)\n",
    "\n",
    "for p in range(1, 32, 3):\n",
    "    print(p)"
   ]
  },
  {
   "cell_type": "code",
   "execution_count": 2,
   "metadata": {},
   "outputs": [
    {
     "name": "stdout",
     "output_type": "stream",
     "text": [
      "0\n",
      "1\n",
      "2\n",
      "3\n",
      "4\n",
      "loop terminated\n"
     ]
    }
   ],
   "source": [
    "# while loop\n",
    "\n",
    "i=0\n",
    "while(i<5):\n",
    "    print(i)\n",
    "    i=i+1\n",
    "\n",
    "print(\"loop terminated\")"
   ]
  },
  {
   "cell_type": "code",
   "execution_count": 7,
   "metadata": {},
   "outputs": [
    {
     "name": "stdout",
     "output_type": "stream",
     "text": [
      "32\n",
      "23\n",
      "21\n",
      "67\n",
      "condition satisfied\n"
     ]
    }
   ],
   "source": [
    "i  = int(input(\"Enter the number :\"))\n",
    "while(i<50):\n",
    "    i  = int(input(\"Enter the number :\"))\n",
    "    print(i)\n",
    "\n",
    "print(\"condition satisfied\")"
   ]
  },
  {
   "cell_type": "code",
   "execution_count": 36,
   "metadata": {},
   "outputs": [
    {
     "name": "stdout",
     "output_type": "stream",
     "text": [
      "7\n",
      "5\n",
      "3\n",
      "1\n"
     ]
    }
   ],
   "source": [
    "count = 7\n",
    "\n",
    "while(count > 0):\n",
    "    print(count)\n",
    "    count=count-2"
   ]
  },
  {
   "cell_type": "code",
   "execution_count": 1,
   "metadata": {},
   "outputs": [
    {
     "name": "stdout",
     "output_type": "stream",
     "text": [
      "5 X 1 = 5\n",
      "5 X 2 = 10\n",
      "5 X 3 = 15\n",
      "5 X 4 = 20\n",
      "5 X 5 = 25\n",
      "5 X 6 = 30\n",
      "5 X 7 = 35\n",
      "5 X 8 = 40\n",
      "5 X 9 = 45\n",
      "5 X 10 = 50\n",
      "loop ended\n"
     ]
    }
   ],
   "source": [
    "# break statement \n",
    "\n",
    "for i in range(11):\n",
    "    if (i==10):\n",
    "        break\n",
    "    print(\"5 X\", i+1, \"=\", 5*(i+1))\n",
    "\n",
    "print(\"loop ended\")"
   ]
  },
  {
   "cell_type": "code",
   "execution_count": 8,
   "metadata": {},
   "outputs": [
    {
     "name": "stdout",
     "output_type": "stream",
     "text": [
      "entered number is: 15\n",
      "15 x 1 = 15\n",
      "15 x 2 = 30\n",
      "15 x 3 = 45\n",
      "15 x 4 = 60\n",
      "15 x 5 = 75\n",
      "15 x 6 = 90\n",
      "15 x 7 = 105\n",
      "15 x 8 = 120\n",
      "15 x 9 = 135\n",
      "15 x 10 = 150\n"
     ]
    }
   ],
   "source": [
    "num= int(input(\"Enter the number for multiplication table: \",))\n",
    "print(\"entered number is:\", num)\n",
    "\n",
    "for i in range(1,11):\n",
    "    print(num, \"x\", i, \"=\", num*i)\n"
   ]
  },
  {
   "cell_type": "code",
   "execution_count": 10,
   "metadata": {},
   "outputs": [
    {
     "name": "stdout",
     "output_type": "stream",
     "text": [
      "5 X 1 = 5\n",
      "5 X 2 = 10\n",
      "5 X 3 = 15\n",
      "5 X 4 = 20\n",
      "5 X 5 = 25\n",
      "5 X 6 = 30\n",
      "5 X 7 = 35\n",
      "5 X 8 = 40\n",
      "5 X 9 = 45\n",
      "skip the iteration\n",
      "5 X 11 = 55\n",
      "5 X 12 = 60\n",
      "5 X 13 = 65\n",
      "5 X 14 = 70\n"
     ]
    }
   ],
   "source": [
    "# continue statement\n",
    "\n",
    "for i in range(1, 15):\n",
    "    if (i==10):\n",
    "        print(\"skip the iteration\")\n",
    "        continue\n",
    "    print(\"5 X\", i, \"=\", 5*(i))\n"
   ]
  },
  {
   "cell_type": "code",
   "execution_count": 42,
   "metadata": {},
   "outputs": [
    {
     "name": "stdout",
     "output_type": "stream",
     "text": [
      "0\n",
      "1\n",
      "2\n",
      "3\n",
      "4\n",
      "5\n",
      "6\n",
      "7\n",
      "8\n",
      "9\n"
     ]
    }
   ],
   "source": [
    "# do while loop like concept\n",
    "\n",
    "i = 0\n",
    "while True:\n",
    "    print(i)\n",
    "    i = i+1\n",
    "    if(i%10 == 0):\n",
    "        break"
   ]
  },
  {
   "cell_type": "code",
   "execution_count": 4,
   "metadata": {},
   "outputs": [
    {
     "name": "stdout",
     "output_type": "stream",
     "text": [
      "5 X 1 = 5\n",
      "5 X 2 = 10\n",
      "5 X 3 = 15\n",
      "5 X 4 = 20\n",
      "5 X 5 = 25\n",
      "5 X 6 = 30\n",
      "5 X 7 = 35\n",
      "5 X 8 = 40\n",
      "5 X 9 = 45\n",
      "5 X 11 = 55\n",
      "End the loop\n"
     ]
    }
   ],
   "source": [
    "i = 1\n",
    "while i < 12:\n",
    "\n",
    "    if (i==10):\n",
    "        i = i+1 \n",
    "    print(\"5 X\", i, \"=\", 5*i)\n",
    "    i = i+1 \n",
    "print(\"End the loop\")\n",
    "        "
   ]
  },
  {
   "cell_type": "code",
   "execution_count": 12,
   "metadata": {},
   "outputs": [
    {
     "name": "stdout",
     "output_type": "stream",
     "text": [
      "you are eligible\n"
     ]
    }
   ],
   "source": [
    "# x = int(input(\"enter your age: \"))\n",
    "# print(\"entered age is: \", x)\n",
    "def abc(x):\n",
    "\n",
    "    if (x<18):\n",
    "        print(\"you are not eligible\")\n",
    "    else:\n",
    "        print(\"you are eligible\")\n",
    "abc(20)"
   ]
  },
  {
   "cell_type": "code",
   "execution_count": 56,
   "metadata": {},
   "outputs": [
    {
     "name": "stdout",
     "output_type": "stream",
     "text": [
      "ABC\n",
      "DEF\n",
      "GHI\n",
      "JKL\n",
      "MNO\n"
     ]
    }
   ],
   "source": [
    "tuple_ = (\"abc\", \"def\", \"ghi\", \"jkl\", \"mno\")  \n",
    "  \n",
    "for iterator in range(len(tuple_)):  \n",
    "    print(tuple_[iterator].upper())"
   ]
  },
  {
   "cell_type": "code",
   "execution_count": 62,
   "metadata": {},
   "outputs": [
    {
     "name": "stdout",
     "output_type": "stream",
     "text": [
      "[36, 16, 1, 25, 9]\n"
     ]
    }
   ],
   "source": [
    "list_ = [3, 5, 1, 4, 6]    \n",
    "squares = []    \n",
    "while list_:     \n",
    "    squares.append( (list_.pop())**2)    \n",
    "print( squares )    "
   ]
  },
  {
   "cell_type": "code",
   "execution_count": null,
   "metadata": {},
   "outputs": [],
   "source": []
  }
 ],
 "metadata": {
  "kernelspec": {
   "display_name": "Python 3",
   "language": "python",
   "name": "python3"
  },
  "language_info": {
   "codemirror_mode": {
    "name": "ipython",
    "version": 3
   },
   "file_extension": ".py",
   "mimetype": "text/x-python",
   "name": "python",
   "nbconvert_exporter": "python",
   "pygments_lexer": "ipython3",
   "version": "3.11.5"
  }
 },
 "nbformat": 4,
 "nbformat_minor": 2
}
