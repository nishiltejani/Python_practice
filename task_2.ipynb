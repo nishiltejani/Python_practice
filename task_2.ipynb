{
 "cells": [
  {
   "cell_type": "code",
   "execution_count": 2,
   "metadata": {},
   "outputs": [],
   "source": [
    "import numpy as np\n",
    "import pandas as pd"
   ]
  },
  {
   "cell_type": "code",
   "execution_count": 3,
   "metadata": {},
   "outputs": [],
   "source": [
    "df = pd.read_json('C:/Users/Nishil Tejani/Downloads/cooler_on_15032024_145432283.json')\n",
    "\n",
    "data = df[\"payload\"][\"values\"]\n",
    "\n",
    "num_data = np.array(data)\n",
    "\n",
    "df = pd.DataFrame(num_data, columns=['x', 'y', 'z'])\n",
    "\n",
    "blocks = [df[i*100:(i+1)*100] for i in range(12)]\n",
    "\n",
    "min_max_df = pd.DataFrame(columns=['x_min', 'x_max', 'y_min', 'y_max', 'z_min', 'z_max'])\n",
    "\n",
    "for i, block in enumerate(blocks):\n",
    "    min_max = {\n",
    "        'x_min': block['x'].min(),\n",
    "        'x_max': block['x'].max(),\n",
    "        'y_min': block['y'].min(),\n",
    "        'y_max': block['y'].max(),\n",
    "        'z_min': block['z'].min(),\n",
    "        'z_max': block['z'].max()\n",
    "    }\n",
    "    min_max_df = pd.concat([min_max_df, pd.DataFrame(min_max, index=[0])], ignore_index=True)\n",
    "\n",
    "min_max_file = 'C:/Users/Nishil Tejani/OneDrive/Desktop/DOTCOM/cooler_on_min_max.csv'\n",
    "min_max_df.to_csv(min_max_file, index=False)\n"
   ]
  },
  {
   "cell_type": "code",
   "execution_count": null,
   "metadata": {},
   "outputs": [],
   "source": []
  }
 ],
 "metadata": {
  "kernelspec": {
   "display_name": "Python 3",
   "language": "python",
   "name": "python3"
  },
  "language_info": {
   "codemirror_mode": {
    "name": "ipython",
    "version": 3
   },
   "file_extension": ".py",
   "mimetype": "text/x-python",
   "name": "python",
   "nbconvert_exporter": "python",
   "pygments_lexer": "ipython3",
   "version": "3.11.5"
  }
 },
 "nbformat": 4,
 "nbformat_minor": 2
}
