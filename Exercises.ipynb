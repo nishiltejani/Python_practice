{
 "cells": [
  {
   "cell_type": "code",
   "execution_count": 2,
   "metadata": {},
   "outputs": [
    {
     "name": "stdout",
     "output_type": "stream",
     "text": [
      "1\n",
      "2\n",
      "3\n",
      "4\n",
      "5\n",
      "6\n",
      "7\n",
      "8\n",
      "9\n",
      "10\n"
     ]
    }
   ],
   "source": [
    "# Exercise 1: Print First 10 natural numbers using while loop\n",
    "\n",
    "i=1\n",
    "while i<=10:\n",
    "    print(i)\n",
    "    i=i+1"
   ]
  },
  {
   "cell_type": "code",
   "execution_count": 17,
   "metadata": {},
   "outputs": [
    {
     "name": "stdout",
     "output_type": "stream",
     "text": [
      "1 \n",
      "1 2 \n",
      "1 2 3 \n",
      "1 2 3 4 \n",
      "1 2 3 4 5 \n"
     ]
    }
   ],
   "source": [
    "# Exercise 2: Print the following pattern\n",
    "\n",
    "row = 5\n",
    "for i in range(1, row+1, 1):\n",
    "\n",
    "    for j in range(1, i+1):\n",
    "        print(j, end=' ')\n",
    "    print(\"\")\n"
   ]
  },
  {
   "cell_type": "code",
   "execution_count": 23,
   "metadata": {},
   "outputs": [
    {
     "name": "stdout",
     "output_type": "stream",
     "text": [
      "Entered number is: 21\n",
      "Sum is:  231\n"
     ]
    }
   ],
   "source": [
    "# Exercise 3: Calculate the sum of all numbers from 1 to a given number\n",
    "\n",
    "x = int(input(\"Enter number: \"))\n",
    "print(\"Entered number is:\", x)\n",
    "\n",
    "s=0\n",
    "for i in range(1, x+1, 1):\n",
    "    s += i\n",
    "print(\"Sum is: \", s)\n"
   ]
  },
  {
   "cell_type": "code",
   "execution_count": 24,
   "metadata": {},
   "outputs": [
    {
     "name": "stdout",
     "output_type": "stream",
     "text": [
      "2\n",
      "4\n",
      "6\n",
      "8\n",
      "10\n",
      "12\n",
      "14\n",
      "16\n",
      "18\n",
      "20\n"
     ]
    }
   ],
   "source": [
    "# Exercise 4: Write a program to print multiplication table of a given number\n",
    "\n",
    "n = 2\n",
    "\n",
    "for i in range(1, 11, 1):\n",
    "    m = n*i\n",
    "    print(m)"
   ]
  },
  {
   "cell_type": "code",
   "execution_count": 32,
   "metadata": {},
   "outputs": [
    {
     "name": "stdout",
     "output_type": "stream",
     "text": [
      "75\n",
      "150\n",
      "145\n"
     ]
    }
   ],
   "source": [
    "# Exercise 5: Display numbers from a list using loop\n",
    "\n",
    "numbers = [12, 75, 150, 180, 145, 525, 50]\n",
    "\n",
    "for i in numbers:\n",
    "    if i > 500:\n",
    "        break\n",
    "\n",
    "    elif i > 150:\n",
    "        continue\n",
    "\n",
    "    elif i % 5 == 0:\n",
    "        print(i)"
   ]
  },
  {
   "cell_type": "code",
   "execution_count": 33,
   "metadata": {},
   "outputs": [
    {
     "name": "stdout",
     "output_type": "stream",
     "text": [
      "number if digit is : 9\n"
     ]
    }
   ],
   "source": [
    "# Exercise 6: Count the total number of digits in a number\n",
    "n = 679486802\n",
    "counter = 0\n",
    "\n",
    "while n != 0:\n",
    "    n = n // 10\n",
    "    counter = counter + 1\n",
    "print(\"number if digit is :\", counter)"
   ]
  },
  {
   "cell_type": "code",
   "execution_count": 57,
   "metadata": {},
   "outputs": [
    {
     "name": "stdout",
     "output_type": "stream",
     "text": [
      "5 4 3 2 1 \n",
      "4 3 2 1 \n",
      "3 2 1 \n",
      "2 1 \n",
      "1 \n",
      "\n"
     ]
    }
   ],
   "source": [
    "# Exercise 7: Print the following pattern\n",
    "\n",
    "x = 5\n",
    "y = 5\n",
    "for i in range(0, x+1):\n",
    "    for j in range(y-i, 0, -1):\n",
    "\n",
    "        print(j, end=\" \")\n",
    "    print()"
   ]
  },
  {
   "cell_type": "code",
   "execution_count": 12,
   "metadata": {},
   "outputs": [
    {
     "name": "stdout",
     "output_type": "stream",
     "text": [
      "50\n",
      "40\n",
      "30\n",
      "20\n",
      "10\n"
     ]
    }
   ],
   "source": [
    "# Exercise 8: Print list in reverse order using a loop\n",
    "\n",
    "list1 = [10, 20, 30, 40, 50]\n",
    "\n",
    "length = len(list1) - 1\n",
    "for i in range(length, -1, -1):\n",
    "    print(list1[i])"
   ]
  },
  {
   "cell_type": "code",
   "execution_count": 13,
   "metadata": {},
   "outputs": [
    {
     "name": "stdout",
     "output_type": "stream",
     "text": [
      "Integer number is: [12, 13, 14]\n",
      "String type of value is: ['hey', 'hello', 'apple']\n",
      "float number is: [1.2, 2.0, 3.5]\n",
      "Complex number is: [(3+2j), (4+5j), (7+5j)]\n"
     ]
    }
   ],
   "source": [
    "# Exercise 9: print the element according to their types in the different lists\n",
    "\n",
    "list1 = [1.2, 2.0, 3.5, \"hey\", \"hello\", \"apple\", 12, 13, 14, 3+2j, 4+5j, 7+5j]\n",
    "\n",
    "int1=[]\n",
    "str1=[]\n",
    "float1=[]\n",
    "cn1=[]\n",
    "\n",
    "for i in list1:\n",
    "    if isinstance(i, int):\n",
    "        int1.append(i)\n",
    "    elif isinstance(i, str):\n",
    "        str1.append(i)\n",
    "    elif type(i)==float:\n",
    "        float1.append(i)\n",
    "    elif type(i)==complex:\n",
    "        cn1.append(i)\n",
    "\n",
    "print(\"Integer number is:\", int1)\n",
    "print(\"String type of value is:\", str1)\n",
    "print(\"float number is:\", float1)\n",
    "print(\"Complex number is:\", cn1)"
   ]
  },
  {
   "cell_type": "code",
   "execution_count": 87,
   "metadata": {},
   "outputs": [
    {
     "name": "stdout",
     "output_type": "stream",
     "text": [
      "1 \n",
      "1 2 \n",
      "1 2 3 \n",
      "1 2 3 4 \n",
      "1 2 3 4 5 \n"
     ]
    }
   ],
   "source": [
    "# Exercise 10: Print the following pattern\n",
    "\n",
    "row = 5\n",
    "for i in range(1, row+1, 1):\n",
    "    for j in range(1,i+1):\n",
    "        print(j, end=\" \")\n",
    "    print()"
   ]
  },
  {
   "cell_type": "code",
   "execution_count": 109,
   "metadata": {},
   "outputs": [
    {
     "name": "stdout",
     "output_type": "stream",
     "text": [
      "-10\n",
      "-9\n",
      "-8\n",
      "-7\n",
      "-6\n",
      "-5\n",
      "-4\n",
      "-3\n",
      "-2\n",
      "-1\n"
     ]
    }
   ],
   "source": [
    "# Exercise 11: Display numbers from -10 to -1 using for loop\n",
    "\n",
    "i= 0\n",
    "for i in range(-10, 0, 1):\n",
    "    print(i)"
   ]
  },
  {
   "cell_type": "code",
   "execution_count": 4,
   "metadata": {},
   "outputs": [
    {
     "name": "stdout",
     "output_type": "stream",
     "text": [
      "0\n",
      "1\n",
      "2\n",
      "3\n",
      "4\n",
      "Done\n"
     ]
    }
   ],
   "source": [
    "# Exercise 12: Use else block to display a message “Done” after successful execution of for loop\n",
    "\n",
    "i=0\n",
    "\n",
    "for i in range(5):\n",
    "    print(i)\n",
    "\n",
    "else:\n",
    "    print(\"Done\")\n"
   ]
  },
  {
   "cell_type": "code",
   "execution_count": 15,
   "metadata": {},
   "outputs": [
    {
     "name": "stdout",
     "output_type": "stream",
     "text": [
      "prime number between 25 and 50 are: \n",
      "29\n",
      "31\n",
      "37\n",
      "41\n",
      "43\n",
      "47\n"
     ]
    }
   ],
   "source": [
    "# Exercise 13: Write a program to display all prime numbers within a range\n",
    "\n",
    "start = 25\n",
    "end = 50\n",
    "\n",
    "print(\"prime number between\" ,start, \"and\" ,end, \"are: \")\n",
    "\n",
    "for i in range(start, end+1):\n",
    "    if i>1:\n",
    "        for j in range(2, i):\n",
    "            if (i % j) == 0:\n",
    "                break\n",
    "        else:\n",
    "            print(i)"
   ]
  },
  {
   "cell_type": "code",
   "execution_count": 28,
   "metadata": {},
   "outputs": [
    {
     "name": "stdout",
     "output_type": "stream",
     "text": [
      "0\n",
      "1\n",
      "1\n",
      "2\n",
      "3\n",
      "5\n",
      "8\n",
      "13\n",
      "21\n",
      "34\n"
     ]
    }
   ],
   "source": [
    "# Exercise 14: Display Fibonacci series up to 10 terms\n",
    "\n",
    "n1=0\n",
    "n2=1\n",
    "\n",
    "for i in range(10):\n",
    "\n",
    "    print(n1)\n",
    "    # print()\n",
    "\n",
    "    result = n1 + n2\n",
    "    n1 = n2\n",
    "    n2 = result"
   ]
  },
  {
   "cell_type": "code",
   "execution_count": 33,
   "metadata": {},
   "outputs": [
    {
     "name": "stdout",
     "output_type": "stream",
     "text": [
      "the factorial of 5 is 120\n"
     ]
    }
   ],
   "source": [
    "# Exercise 15: Find the factorial of a given number\n",
    "\n",
    "n = 5\n",
    "factorial = 1\n",
    "\n",
    "for i in range (1, n+1):\n",
    "    factorial = factorial * i\n",
    "\n",
    "print(\"the factorial of\", n, \"is\", factorial)"
   ]
  },
  {
   "cell_type": "code",
   "execution_count": 4,
   "metadata": {},
   "outputs": [
    {
     "name": "stdout",
     "output_type": "stream",
     "text": [
      "Given integer number is:  76542\n",
      "Reverse Number : 24567\n"
     ]
    }
   ],
   "source": [
    "# Exercise 16: Reverse a given integer number\n",
    "\n",
    "n1 = 76542\n",
    "# n2 = str(n1)\n",
    "# print(n2)\n",
    "reverse_number = 0\n",
    "print(\"Given integer number is: \", n1)\n",
    "\n",
    "while n1>0:\n",
    "    remainder = n1 % 10\n",
    "    reverse_number = (reverse_number * 10) + remainder\n",
    "    n1 = n1 // 10\n",
    "print(\"Reverse Number :\", reverse_number) \n"
   ]
  },
  {
   "cell_type": "code",
   "execution_count": 44,
   "metadata": {},
   "outputs": [
    {
     "name": "stdout",
     "output_type": "stream",
     "text": [
      "20 40 60 80 100 "
     ]
    }
   ],
   "source": [
    "# Exercise 17: Use a loop to display elements from a given list present at odd index positions\n",
    "\n",
    "my_list = [10, 20, 30, 40, 50, 60, 70, 80, 90, 100]\n",
    "\n",
    "for i in my_list[1::2]:\n",
    "    print(i, end = \" \")"
   ]
  },
  {
   "cell_type": "code",
   "execution_count": 49,
   "metadata": {},
   "outputs": [
    {
     "name": "stdout",
     "output_type": "stream",
     "text": [
      "the cube of number 1 is 1\n",
      "the cube of number 2 is 8\n",
      "the cube of number 3 is 27\n",
      "the cube of number 4 is 64\n",
      "the cube of number 5 is 125\n",
      "the cube of number 6 is 216\n"
     ]
    }
   ],
   "source": [
    "# Exercise 18: Calculate the cube of all numbers from 1 to a given number\n",
    "\n",
    "input1 = 6\n",
    "\n",
    "for i in range(1, input1+1):\n",
    "    c = i*i*i\n",
    "    print(\"the cube of number\", i, \"is\", c)"
   ]
  },
  {
   "cell_type": "code",
   "execution_count": 53,
   "metadata": {},
   "outputs": [
    {
     "name": "stdout",
     "output_type": "stream",
     "text": [
      "2+22+222+2222+22222+\n",
      "the sum of the series up to 5 terms is: 24690\n"
     ]
    }
   ],
   "source": [
    "# Exercise 19: Find the sum of the series upto n terms\n",
    "\n",
    "n = 5\n",
    "\n",
    "start = 2\n",
    "seq = 0\n",
    "\n",
    "for i in range(0, n):\n",
    "    print(start, end=\"+\")\n",
    "\n",
    "    seq += start\n",
    "    start = start*10+2\n",
    "\n",
    "print(\"\\nthe sum of the series up to\", n , \"terms is:\" ,seq)"
   ]
  },
  {
   "cell_type": "code",
   "execution_count": 63,
   "metadata": {},
   "outputs": [
    {
     "name": "stdout",
     "output_type": "stream",
     "text": [
      "* \n",
      "* * \n",
      "* * * \n",
      "* * * * \n",
      "* * * * * \n",
      "* * * * \n",
      "* * * \n",
      "* * \n",
      "* \n",
      "\n"
     ]
    }
   ],
   "source": [
    "# Exercise 20: Print the following pattern\n",
    "\n",
    "rows = 5\n",
    "\n",
    "for i in range(0, rows):\n",
    "    for j in range(0, i+1):\n",
    "        print(\"*\", end=\" \")\n",
    "    print()\n",
    "\n",
    "for i in range(rows, 0, -1):\n",
    "    for j in range(0, i-1):\n",
    "        print(\"*\", end=\" \")\n",
    "    print()"
   ]
  },
  {
   "cell_type": "code",
   "execution_count": 6,
   "metadata": {},
   "outputs": [
    {
     "name": "stdout",
     "output_type": "stream",
     "text": [
      "[]\n"
     ]
    }
   ],
   "source": [
    "list1 = [1,2,3,4,5]\n",
    "for i in list1.copy():\n",
    "    list1.remove(i)\n",
    "\n",
    "print(list1)"
   ]
  },
  {
   "cell_type": "code",
   "execution_count": 70,
   "metadata": {},
   "outputs": [
    {
     "name": "stdout",
     "output_type": "stream",
     "text": [
      "2\n",
      "4\n",
      "6\n",
      "8\n",
      "10\n"
     ]
    }
   ],
   "source": [
    "list1 = [1,2,3,4,5]\n",
    "\n",
    "for i in list1:\n",
    "\n",
    "    print(i*2)"
   ]
  },
  {
   "cell_type": "code",
   "execution_count": 72,
   "metadata": {},
   "outputs": [
    {
     "name": "stdout",
     "output_type": "stream",
     "text": [
      "1\n",
      "2\n",
      "3\n",
      "4\n",
      "5\n",
      "6\n",
      "7\n",
      "8\n",
      "9\n",
      "10\n"
     ]
    }
   ],
   "source": [
    "for i in range(1,11):\n",
    "    print(i)"
   ]
  },
  {
   "cell_type": "code",
   "execution_count": 8,
   "metadata": {},
   "outputs": [
    {
     "name": "stdout",
     "output_type": "stream",
     "text": [
      "* \n",
      "* * \n",
      "* * * \n",
      "* * * * \n",
      "* * * \n",
      "* * \n",
      "* \n",
      "\n",
      "* \n",
      "* * \n",
      "* * * \n",
      "* * \n",
      "* \n",
      "\n"
     ]
    }
   ],
   "source": [
    "def pattern(n):\n",
    "\n",
    "    for i in range(1, n, 1):\n",
    "        for j in range(1, i+1):\n",
    "            print(\"*\", end=\" \")\n",
    "        print()\n",
    "\n",
    "    for i in range(n-1, 0, -1):\n",
    "        for j in range(0, i-1):\n",
    "            print(\"*\", end=\" \")\n",
    "        print()\n",
    "\n",
    "pattern(5)\n",
    "\n",
    "pattern(4)"
   ]
  },
  {
   "cell_type": "code",
   "execution_count": 120,
   "metadata": {},
   "outputs": [
    {
     "data": {
      "text/plain": [
       "('nishil', 'lihsin')"
      ]
     },
     "execution_count": 120,
     "metadata": {},
     "output_type": "execute_result"
    }
   ],
   "source": [
    "x=\"nishil\"\n",
    "y = x[::-1]\n",
    "x,y"
   ]
  },
  {
   "cell_type": "code",
   "execution_count": 124,
   "metadata": {},
   "outputs": [
    {
     "data": {
      "text/plain": [
       "[1, 2, 3, 4, 6]"
      ]
     },
     "execution_count": 124,
     "metadata": {},
     "output_type": "execute_result"
    }
   ],
   "source": [
    "l1=[1,2,3,4,6]\n",
    "l2=l1.copy()\n",
    "l2"
   ]
  },
  {
   "cell_type": "code",
   "execution_count": 135,
   "metadata": {},
   "outputs": [
    {
     "data": {
      "text/plain": [
       "3"
      ]
     },
     "execution_count": 135,
     "metadata": {},
     "output_type": "execute_result"
    }
   ],
   "source": [
    "dict1 = {\"a\":1,\n",
    "         \"b\":2, \n",
    "         \"c\": {\n",
    "             \"d\":3,\n",
    "             \"e\":4,\n",
    "             \"f\":5\n",
    "         }}\n",
    "\n",
    "d = dict1[\"c\"][\"d\"]\n",
    "d"
   ]
  },
  {
   "cell_type": "code",
   "execution_count": 9,
   "metadata": {},
   "outputs": [
    {
     "name": "stdout",
     "output_type": "stream",
     "text": [
      "[1, 2, 2, 3, 3, 4, 4, 5, 5, 6, 7, 8]\n"
     ]
    }
   ],
   "source": [
    "l1= [1,2,3,4,5,2,6,7,8,3,4,5]\n",
    "l1.sort()\n",
    "print(l1)\n",
    "\n",
    "for i in l1:\n",
    "    if(i==(i+1)):\n",
    "        l1.remove(i)\n",
    "        l1.remove(i+1)\n",
    "    \n",
    "        print(l1)"
   ]
  },
  {
   "cell_type": "code",
   "execution_count": 58,
   "metadata": {},
   "outputs": [
    {
     "name": "stdout",
     "output_type": "stream",
     "text": [
      "the car is: bmw\n",
      "None\n",
      "total land is: 40 acres\n",
      "40 acres\n"
     ]
    }
   ],
   "source": [
    "# inheritance example\n",
    "\n",
    "class parent:\n",
    "\n",
    "    def property(self, land):\n",
    "        self.land = land\n",
    "        print(\"total land is:\", land)\n",
    "        return land\n",
    "\n",
    "class child(parent):\n",
    "\n",
    "    def car(self, name):\n",
    "        self.name = name\n",
    "        print(\"the car is:\", name)\n",
    "\n",
    "access = child()\n",
    "print(access.car(\"bmw\"))\n",
    "\n",
    "print(access.property(\"40 acres\"))\n"
   ]
  },
  {
   "cell_type": "code",
   "execution_count": 1,
   "metadata": {},
   "outputs": [
    {
     "name": "stdout",
     "output_type": "stream",
     "text": [
      "your choice is: 3\n",
      "System choice is: 1\n",
      "System Win!\n"
     ]
    }
   ],
   "source": [
    "# Develop a game named as stone, paper, scissor\n",
    "import random\n",
    "\n",
    "x = int(input(\"Enter your choice number 1 for stone, 2 for paper and 3 for scissors.\"))   \n",
    "\n",
    "def game(x):\n",
    "    if x not in range(1,4):\n",
    "        print(\"please enter valid input number from 1 to 3!\")\n",
    "        return\n",
    "        \n",
    "    y = random.randint(1,3)\n",
    "\n",
    "    print(\"your choice is:\", x)\n",
    "    print(\"System choice is:\", y)\n",
    "\n",
    "    if x == y:\n",
    "        print(\"Match tie!\")\n",
    "\n",
    "    elif (x == 1 and y == 3) or (x == 2 and y == 1) or (x == 3 and y == 2):\n",
    "        print(\"You win!\") \n",
    "\n",
    "    else:\n",
    "        print(\"System Win!\")\n",
    "\n",
    "game(x) "
   ]
  }
 ],
 "metadata": {
  "kernelspec": {
   "display_name": "Python 3",
   "language": "python",
   "name": "python3"
  },
  "language_info": {
   "codemirror_mode": {
    "name": "ipython",
    "version": 3
   },
   "file_extension": ".py",
   "mimetype": "text/x-python",
   "name": "python",
   "nbconvert_exporter": "python",
   "pygments_lexer": "ipython3",
   "version": "3.11.5"
  }
 },
 "nbformat": 4,
 "nbformat_minor": 2
}
