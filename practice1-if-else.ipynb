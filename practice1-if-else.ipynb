{
 "cells": [
  {
   "cell_type": "code",
   "execution_count": 20,
   "metadata": {},
   "outputs": [
    {
     "name": "stdout",
     "output_type": "stream",
     "text": [
      "the entered number is:  2\n",
      "The given number is an even number.\n"
     ]
    }
   ],
   "source": [
    "# if-else statements\n",
    "\n",
    "num = int(input(\"enter the number:\"))    \n",
    "print(\"the entered number is: \", num)   \n",
    "if num%2 == 0:      \n",
    "    print(\"The given number is an even number.\")    \n"
   ]
  },
  {
   "cell_type": "code",
   "execution_count": 21,
   "metadata": {},
   "outputs": [
    {
     "name": "stdout",
     "output_type": "stream",
     "text": [
      "a is: 12\n",
      "b is: 43\n",
      "c is: 65\n",
      "From the above three numbers given c is largest\n"
     ]
    }
   ],
   "source": [
    "a = int (input(\"Enter a: \"))  \n",
    "print(\"a is:\" ,a)  \n",
    "b = int (input(\"Enter b: \"))    \n",
    "print(\"b is:\" , b)\n",
    "c = int (input(\"Enter c: \"))  \n",
    "print(\"c is:\" , c)\n",
    "\n",
    "if a>b and a>c:    \n",
    "    print (\"From the above three numbers given a is largest\")    \n",
    "if b>a and b>c:    \n",
    "    print (\"From the above three numbers given b is largest\")    \n",
    "if c>a and c>b:    \n",
    "    print (\"From the above three numbers given c is largest\")    \n"
   ]
  },
  {
   "cell_type": "code",
   "execution_count": 22,
   "metadata": {},
   "outputs": [
    {
     "name": "stdout",
     "output_type": "stream",
     "text": [
      "You are eligible for driving licence.\n"
     ]
    }
   ],
   "source": [
    "age = int (input(\"Enter your age: \"))    \n",
    "if age>=18:    \n",
    "    print(\"You are eligible for driving licence.\")    \n",
    "else:    \n",
    "    print(\"Sorry! you have to wait till 18.\")    "
   ]
  },
  {
   "cell_type": "code",
   "execution_count": 3,
   "metadata": {},
   "outputs": [
    {
     "name": "stdout",
     "output_type": "stream",
     "text": [
      "entered number is: 5646\n",
      "The given number is bigger than 100\n"
     ]
    }
   ],
   "source": [
    "number = int(input(\"Enter the number?\"))    \n",
    "print(\"entered number is:\" , number)\n",
    "\n",
    "if number==10:    \n",
    "    print(\"The given number is equals to 10\")   \n",
    "\n",
    "elif number<50:  \n",
    "    print(\"The given number is smaller than 50\")    \n",
    "\n",
    "elif number>100:    \n",
    "    print(\"The given number is bigger than 100\") "
   ]
  },
  {
   "cell_type": "code",
   "execution_count": 2,
   "metadata": {},
   "outputs": [
    {
     "name": "stdout",
     "output_type": "stream",
     "text": [
      "number is between 51 to 90\n"
     ]
    }
   ],
   "source": [
    "num = 89\n",
    "\n",
    "if (num < 0):\n",
    "    print(\"number is negative\")\n",
    "\n",
    "elif (num > 0):\n",
    "    if (num <= 50):\n",
    "        print(\"number is between 1 to 50\")\n",
    "    elif(num > 50 and num <=90):\n",
    "        print(\"number is between 51 to 90\")\n",
    "    else:\n",
    "        print(\"number is greater than 90\")\n",
    "else:\n",
    "    print(\"number is zero\")"
   ]
  },
  {
   "cell_type": "code",
   "execution_count": 26,
   "metadata": {},
   "outputs": [
    {
     "name": "stdout",
     "output_type": "stream",
     "text": [
      "[2, 4, 6, 8, 10]\n"
     ]
    }
   ],
   "source": [
    "x = [1,2,3,4,5,6,7,8,9,10]\n",
    "x1= []\n",
    "for i in x:\n",
    "    if (i%2==0):\n",
    "        x1.append(i)\n",
    "        \n",
    "print(x1) "
   ]
  },
  {
   "cell_type": "code",
   "execution_count": 28,
   "metadata": {},
   "outputs": [
    {
     "data": {
      "text/plain": [
       "[1, 2, 3, 4, 2]"
      ]
     },
     "execution_count": 28,
     "metadata": {},
     "output_type": "execute_result"
    }
   ],
   "source": [
    "x = [1,2,3,4]\n",
    "x.append(2)\n",
    "x"
   ]
  },
  {
   "cell_type": "code",
   "execution_count": 32,
   "metadata": {},
   "outputs": [
    {
     "data": {
      "text/plain": [
       "[1, 2, 3, 4, 2, 'all']"
      ]
     },
     "execution_count": 32,
     "metadata": {},
     "output_type": "execute_result"
    }
   ],
   "source": [
    "x = [1,2,3,4]\n",
    "x.extend([2, \"all\"])\n",
    "x"
   ]
  },
  {
   "cell_type": "code",
   "execution_count": 6,
   "metadata": {},
   "outputs": [
    {
     "name": "stdout",
     "output_type": "stream",
     "text": [
      "[1, 2, 2, 3, 3, 4, 4, 5, 5, 6, 7, 8]\n"
     ]
    }
   ],
   "source": [
    "l1= [1,2,3,4,5,2,6,7,8,3,4,5]\n",
    "l1.sort()\n",
    "print(l1)"
   ]
  },
  {
   "cell_type": "code",
   "execution_count": null,
   "metadata": {},
   "outputs": [],
   "source": []
  }
 ],
 "metadata": {
  "kernelspec": {
   "display_name": "Python 3",
   "language": "python",
   "name": "python3"
  },
  "language_info": {
   "codemirror_mode": {
    "name": "ipython",
    "version": 3
   },
   "file_extension": ".py",
   "mimetype": "text/x-python",
   "name": "python",
   "nbconvert_exporter": "python",
   "pygments_lexer": "ipython3",
   "version": "3.11.5"
  }
 },
 "nbformat": 4,
 "nbformat_minor": 2
}
